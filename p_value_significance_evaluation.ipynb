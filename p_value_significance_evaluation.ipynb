{
  "nbformat": 4,
  "nbformat_minor": 0,
  "metadata": {
    "colab": {
      "provenance": [],
      "authorship_tag": "ABX9TyMdMTwPLuB7OAwgKpNRA6c3"
    },
    "kernelspec": {
      "name": "python3",
      "display_name": "Python 3"
    },
    "language_info": {
      "name": "python"
    }
  },
  "cells": [
    {
      "cell_type": "markdown",
      "source": [
        "#**Significance Test**#\n",
        "\n",
        "* Paired t-test to determine if our improved model is significantly better than the benchmark.\n",
        "\n",
        "* We have seen that the F1-score of the model which has been trained on auxiliary data, is higher than the F1-score of the benchmark model that has been trained only on the original training set, without enrichment.\n",
        "\n",
        "* We calculate the p_value to see if that improvement is significant.  "
      ],
      "metadata": {
        "id": "iadFqLIpIx-I"
      }
    },
    {
      "cell_type": "code",
      "source": [
        "USE_GOOGLE_DRIVE_FOR_FILES    = False\n",
        "DATA_FOLDER_PATH              = \"./Data/\"\n",
        "\n",
        "import pandas as pd\n",
        "import numpy as np\n",
        "from scipy import stats\n",
        "from sklearn.metrics import confusion_matrix\n",
        "\n",
        "if USE_GOOGLE_DRIVE_FOR_FILES:\n",
        "  from google.colab import drive\n",
        "  drive.mount('/content/drive')"
      ],
      "metadata": {
        "colab": {
          "base_uri": "https://localhost:8080/"
        },
        "id": "vm_RoerQjDNK",
        "outputId": "3438a8d0-2b7a-4b2a-8d5e-2b5419b233b1"
      },
      "execution_count": null,
      "outputs": [
        {
          "output_type": "stream",
          "name": "stdout",
          "text": [
            "Mounted at /content/drive\n"
          ]
        }
      ]
    },
    {
      "cell_type": "code",
      "execution_count": null,
      "metadata": {
        "id": "_HHvhAbWi5UI"
      },
      "outputs": [],
      "source": [
        "def paired_t_test(vector1, vector2):\n",
        "    \"\"\"\n",
        "    Perform a paired t-test between two vectors\n",
        "    :param vector1: numpy array, first vector\n",
        "    :param vector2: numpy array, second vector\n",
        "    :return: t-value, p-value\n",
        "    \"\"\"\n",
        "    t, p = stats.ttest_rel(vector1, vector2)\n",
        "    return t, p\n",
        "\n",
        "\n",
        "def get_confusion_matrix(y_valid, y_pred, labels):\n",
        "  cm = pd.DataFrame(confusion_matrix(y_valid, y_pred, labels=labels))\n",
        "  cm.columns.name='predicted'\n",
        "  cm.index.name='actual'\n",
        "\n",
        "  return cm"
      ]
    },
    {
      "cell_type": "markdown",
      "source": [
        "Load the results of the **benchmark** model"
      ],
      "metadata": {
        "id": "rG2jmMI-KW5l"
      }
    },
    {
      "cell_type": "code",
      "source": [
        "benchmark = pd.read_csv(f'{DATA_FOLDER_PATH}csv_files/test_predicted_proba_0.csv')\n",
        "benchmark['y_pred_binary'] = (benchmark['y_pred'] > 0.5).astype('int')"
      ],
      "metadata": {
        "id": "N28KSg-0jOGg"
      },
      "execution_count": null,
      "outputs": []
    },
    {
      "cell_type": "code",
      "source": [
        "get_confusion_matrix(benchmark.y_true.values, benchmark.y_pred_binary.values, [0,1])"
      ],
      "metadata": {
        "colab": {
          "base_uri": "https://localhost:8080/",
          "height": 143
        },
        "id": "RzZofq7ZnQ6N",
        "outputId": "97a400d5-0529-46a4-9dbd-27de714baa7f"
      },
      "execution_count": null,
      "outputs": [
        {
          "output_type": "execute_result",
          "data": {
            "text/plain": [
              "predicted    0    1\n",
              "actual             \n",
              "0          946  265\n",
              "1          140  505"
            ],
            "text/html": [
              "\n",
              "  <div id=\"df-2b9ebd97-8c05-4e87-982f-72f3413701ab\">\n",
              "    <div class=\"colab-df-container\">\n",
              "      <div>\n",
              "<style scoped>\n",
              "    .dataframe tbody tr th:only-of-type {\n",
              "        vertical-align: middle;\n",
              "    }\n",
              "\n",
              "    .dataframe tbody tr th {\n",
              "        vertical-align: top;\n",
              "    }\n",
              "\n",
              "    .dataframe thead th {\n",
              "        text-align: right;\n",
              "    }\n",
              "</style>\n",
              "<table border=\"1\" class=\"dataframe\">\n",
              "  <thead>\n",
              "    <tr style=\"text-align: right;\">\n",
              "      <th>predicted</th>\n",
              "      <th>0</th>\n",
              "      <th>1</th>\n",
              "    </tr>\n",
              "    <tr>\n",
              "      <th>actual</th>\n",
              "      <th></th>\n",
              "      <th></th>\n",
              "    </tr>\n",
              "  </thead>\n",
              "  <tbody>\n",
              "    <tr>\n",
              "      <th>0</th>\n",
              "      <td>946</td>\n",
              "      <td>265</td>\n",
              "    </tr>\n",
              "    <tr>\n",
              "      <th>1</th>\n",
              "      <td>140</td>\n",
              "      <td>505</td>\n",
              "    </tr>\n",
              "  </tbody>\n",
              "</table>\n",
              "</div>\n",
              "      <button class=\"colab-df-convert\" onclick=\"convertToInteractive('df-2b9ebd97-8c05-4e87-982f-72f3413701ab')\"\n",
              "              title=\"Convert this dataframe to an interactive table.\"\n",
              "              style=\"display:none;\">\n",
              "        \n",
              "  <svg xmlns=\"http://www.w3.org/2000/svg\" height=\"24px\"viewBox=\"0 0 24 24\"\n",
              "       width=\"24px\">\n",
              "    <path d=\"M0 0h24v24H0V0z\" fill=\"none\"/>\n",
              "    <path d=\"M18.56 5.44l.94 2.06.94-2.06 2.06-.94-2.06-.94-.94-2.06-.94 2.06-2.06.94zm-11 1L8.5 8.5l.94-2.06 2.06-.94-2.06-.94L8.5 2.5l-.94 2.06-2.06.94zm10 10l.94 2.06.94-2.06 2.06-.94-2.06-.94-.94-2.06-.94 2.06-2.06.94z\"/><path d=\"M17.41 7.96l-1.37-1.37c-.4-.4-.92-.59-1.43-.59-.52 0-1.04.2-1.43.59L10.3 9.45l-7.72 7.72c-.78.78-.78 2.05 0 2.83L4 21.41c.39.39.9.59 1.41.59.51 0 1.02-.2 1.41-.59l7.78-7.78 2.81-2.81c.8-.78.8-2.07 0-2.86zM5.41 20L4 18.59l7.72-7.72 1.47 1.35L5.41 20z\"/>\n",
              "  </svg>\n",
              "      </button>\n",
              "      \n",
              "  <style>\n",
              "    .colab-df-container {\n",
              "      display:flex;\n",
              "      flex-wrap:wrap;\n",
              "      gap: 12px;\n",
              "    }\n",
              "\n",
              "    .colab-df-convert {\n",
              "      background-color: #E8F0FE;\n",
              "      border: none;\n",
              "      border-radius: 50%;\n",
              "      cursor: pointer;\n",
              "      display: none;\n",
              "      fill: #1967D2;\n",
              "      height: 32px;\n",
              "      padding: 0 0 0 0;\n",
              "      width: 32px;\n",
              "    }\n",
              "\n",
              "    .colab-df-convert:hover {\n",
              "      background-color: #E2EBFA;\n",
              "      box-shadow: 0px 1px 2px rgba(60, 64, 67, 0.3), 0px 1px 3px 1px rgba(60, 64, 67, 0.15);\n",
              "      fill: #174EA6;\n",
              "    }\n",
              "\n",
              "    [theme=dark] .colab-df-convert {\n",
              "      background-color: #3B4455;\n",
              "      fill: #D2E3FC;\n",
              "    }\n",
              "\n",
              "    [theme=dark] .colab-df-convert:hover {\n",
              "      background-color: #434B5C;\n",
              "      box-shadow: 0px 1px 3px 1px rgba(0, 0, 0, 0.15);\n",
              "      filter: drop-shadow(0px 1px 2px rgba(0, 0, 0, 0.3));\n",
              "      fill: #FFFFFF;\n",
              "    }\n",
              "  </style>\n",
              "\n",
              "      <script>\n",
              "        const buttonEl =\n",
              "          document.querySelector('#df-2b9ebd97-8c05-4e87-982f-72f3413701ab button.colab-df-convert');\n",
              "        buttonEl.style.display =\n",
              "          google.colab.kernel.accessAllowed ? 'block' : 'none';\n",
              "\n",
              "        async function convertToInteractive(key) {\n",
              "          const element = document.querySelector('#df-2b9ebd97-8c05-4e87-982f-72f3413701ab');\n",
              "          const dataTable =\n",
              "            await google.colab.kernel.invokeFunction('convertToInteractive',\n",
              "                                                     [key], {});\n",
              "          if (!dataTable) return;\n",
              "\n",
              "          const docLinkHtml = 'Like what you see? Visit the ' +\n",
              "            '<a target=\"_blank\" href=https://colab.research.google.com/notebooks/data_table.ipynb>data table notebook</a>'\n",
              "            + ' to learn more about interactive tables.';\n",
              "          element.innerHTML = '';\n",
              "          dataTable['output_type'] = 'display_data';\n",
              "          await google.colab.output.renderOutput(dataTable, element);\n",
              "          const docLink = document.createElement('div');\n",
              "          docLink.innerHTML = docLinkHtml;\n",
              "          element.appendChild(docLink);\n",
              "        }\n",
              "      </script>\n",
              "    </div>\n",
              "  </div>\n",
              "  "
            ]
          },
          "metadata": {},
          "execution_count": 7
        }
      ]
    },
    {
      "cell_type": "markdown",
      "source": [
        "Load the results of the **enriched model** after 3 iterations (run 31)"
      ],
      "metadata": {
        "id": "-wOVWPmIKgMa"
      }
    },
    {
      "cell_type": "code",
      "source": [
        "enriched = pd.read_csv(f'{DATA_FOLDER_PATH}csv_files/test_predicted_proba_3.csv')\n",
        "enriched['y_pred_binary'] = (enriched['y_pred'] > 0.5).astype('int')"
      ],
      "metadata": {
        "id": "0PHQR2jWjkfy"
      },
      "execution_count": null,
      "outputs": []
    },
    {
      "cell_type": "code",
      "source": [
        "get_confusion_matrix(enriched.y_true.values, enriched.y_pred_binary.values, [0,1])"
      ],
      "metadata": {
        "colab": {
          "base_uri": "https://localhost:8080/",
          "height": 143
        },
        "id": "i6s2WuKSoY1n",
        "outputId": "a10ab622-8fbd-457f-c1c1-51fa9cb80513"
      },
      "execution_count": null,
      "outputs": [
        {
          "output_type": "execute_result",
          "data": {
            "text/plain": [
              "predicted    0    1\n",
              "actual             \n",
              "0          975  236\n",
              "1          141  504"
            ],
            "text/html": [
              "\n",
              "  <div id=\"df-e6c5a676-3fff-49b4-b444-c7da8ccd13dc\">\n",
              "    <div class=\"colab-df-container\">\n",
              "      <div>\n",
              "<style scoped>\n",
              "    .dataframe tbody tr th:only-of-type {\n",
              "        vertical-align: middle;\n",
              "    }\n",
              "\n",
              "    .dataframe tbody tr th {\n",
              "        vertical-align: top;\n",
              "    }\n",
              "\n",
              "    .dataframe thead th {\n",
              "        text-align: right;\n",
              "    }\n",
              "</style>\n",
              "<table border=\"1\" class=\"dataframe\">\n",
              "  <thead>\n",
              "    <tr style=\"text-align: right;\">\n",
              "      <th>predicted</th>\n",
              "      <th>0</th>\n",
              "      <th>1</th>\n",
              "    </tr>\n",
              "    <tr>\n",
              "      <th>actual</th>\n",
              "      <th></th>\n",
              "      <th></th>\n",
              "    </tr>\n",
              "  </thead>\n",
              "  <tbody>\n",
              "    <tr>\n",
              "      <th>0</th>\n",
              "      <td>975</td>\n",
              "      <td>236</td>\n",
              "    </tr>\n",
              "    <tr>\n",
              "      <th>1</th>\n",
              "      <td>141</td>\n",
              "      <td>504</td>\n",
              "    </tr>\n",
              "  </tbody>\n",
              "</table>\n",
              "</div>\n",
              "      <button class=\"colab-df-convert\" onclick=\"convertToInteractive('df-e6c5a676-3fff-49b4-b444-c7da8ccd13dc')\"\n",
              "              title=\"Convert this dataframe to an interactive table.\"\n",
              "              style=\"display:none;\">\n",
              "        \n",
              "  <svg xmlns=\"http://www.w3.org/2000/svg\" height=\"24px\"viewBox=\"0 0 24 24\"\n",
              "       width=\"24px\">\n",
              "    <path d=\"M0 0h24v24H0V0z\" fill=\"none\"/>\n",
              "    <path d=\"M18.56 5.44l.94 2.06.94-2.06 2.06-.94-2.06-.94-.94-2.06-.94 2.06-2.06.94zm-11 1L8.5 8.5l.94-2.06 2.06-.94-2.06-.94L8.5 2.5l-.94 2.06-2.06.94zm10 10l.94 2.06.94-2.06 2.06-.94-2.06-.94-.94-2.06-.94 2.06-2.06.94z\"/><path d=\"M17.41 7.96l-1.37-1.37c-.4-.4-.92-.59-1.43-.59-.52 0-1.04.2-1.43.59L10.3 9.45l-7.72 7.72c-.78.78-.78 2.05 0 2.83L4 21.41c.39.39.9.59 1.41.59.51 0 1.02-.2 1.41-.59l7.78-7.78 2.81-2.81c.8-.78.8-2.07 0-2.86zM5.41 20L4 18.59l7.72-7.72 1.47 1.35L5.41 20z\"/>\n",
              "  </svg>\n",
              "      </button>\n",
              "      \n",
              "  <style>\n",
              "    .colab-df-container {\n",
              "      display:flex;\n",
              "      flex-wrap:wrap;\n",
              "      gap: 12px;\n",
              "    }\n",
              "\n",
              "    .colab-df-convert {\n",
              "      background-color: #E8F0FE;\n",
              "      border: none;\n",
              "      border-radius: 50%;\n",
              "      cursor: pointer;\n",
              "      display: none;\n",
              "      fill: #1967D2;\n",
              "      height: 32px;\n",
              "      padding: 0 0 0 0;\n",
              "      width: 32px;\n",
              "    }\n",
              "\n",
              "    .colab-df-convert:hover {\n",
              "      background-color: #E2EBFA;\n",
              "      box-shadow: 0px 1px 2px rgba(60, 64, 67, 0.3), 0px 1px 3px 1px rgba(60, 64, 67, 0.15);\n",
              "      fill: #174EA6;\n",
              "    }\n",
              "\n",
              "    [theme=dark] .colab-df-convert {\n",
              "      background-color: #3B4455;\n",
              "      fill: #D2E3FC;\n",
              "    }\n",
              "\n",
              "    [theme=dark] .colab-df-convert:hover {\n",
              "      background-color: #434B5C;\n",
              "      box-shadow: 0px 1px 3px 1px rgba(0, 0, 0, 0.15);\n",
              "      filter: drop-shadow(0px 1px 2px rgba(0, 0, 0, 0.3));\n",
              "      fill: #FFFFFF;\n",
              "    }\n",
              "  </style>\n",
              "\n",
              "      <script>\n",
              "        const buttonEl =\n",
              "          document.querySelector('#df-e6c5a676-3fff-49b4-b444-c7da8ccd13dc button.colab-df-convert');\n",
              "        buttonEl.style.display =\n",
              "          google.colab.kernel.accessAllowed ? 'block' : 'none';\n",
              "\n",
              "        async function convertToInteractive(key) {\n",
              "          const element = document.querySelector('#df-e6c5a676-3fff-49b4-b444-c7da8ccd13dc');\n",
              "          const dataTable =\n",
              "            await google.colab.kernel.invokeFunction('convertToInteractive',\n",
              "                                                     [key], {});\n",
              "          if (!dataTable) return;\n",
              "\n",
              "          const docLinkHtml = 'Like what you see? Visit the ' +\n",
              "            '<a target=\"_blank\" href=https://colab.research.google.com/notebooks/data_table.ipynb>data table notebook</a>'\n",
              "            + ' to learn more about interactive tables.';\n",
              "          element.innerHTML = '';\n",
              "          dataTable['output_type'] = 'display_data';\n",
              "          await google.colab.output.renderOutput(dataTable, element);\n",
              "          const docLink = document.createElement('div');\n",
              "          docLink.innerHTML = docLinkHtml;\n",
              "          element.appendChild(docLink);\n",
              "        }\n",
              "      </script>\n",
              "    </div>\n",
              "  </div>\n",
              "  "
            ]
          },
          "metadata": {},
          "execution_count": 9
        }
      ]
    },
    {
      "cell_type": "markdown",
      "source": [
        "Run the test"
      ],
      "metadata": {
        "id": "h94jckUiLCLC"
      }
    },
    {
      "cell_type": "code",
      "source": [
        "t, p = paired_t_test(np.array(benchmark.y_pred_binary.values), np.array(enriched.y_pred_binary.values))\n",
        "p"
      ],
      "metadata": {
        "colab": {
          "base_uri": "https://localhost:8080/"
        },
        "id": "i1pfo8YFMmZY",
        "outputId": "b474075a-cea5-4284-896a-db62aa969301"
      },
      "execution_count": null,
      "outputs": [
        {
          "output_type": "execute_result",
          "data": {
            "text/plain": [
              "0.04691654808219231"
            ]
          },
          "metadata": {},
          "execution_count": 10
        }
      ]
    },
    {
      "cell_type": "markdown",
      "source": [
        "**With p_value <0.05 we can reject the null hypothesis that the two methods are identical. The improvement is significant.**"
      ],
      "metadata": {
        "id": "KGuxbIqZnRr8"
      }
    },
    {
      "cell_type": "markdown",
      "source": [
        "Examples: what did the winner justifiably classify as Not-Hate, while the benchmark wrongly classified as Hate?"
      ],
      "metadata": {
        "id": "BwJbCkydqOm3"
      }
    },
    {
      "cell_type": "code",
      "source": [
        "merged_df = benchmark.merge(enriched, on=['Unnamed: 0', 'text', 'y_true'], how='inner', suffixes=['_benchmark', '_winner'])\n",
        "diff = merged_df[ (merged_df.y_true==0) & (merged_df.y_pred_binary_benchmark==1) & (merged_df.y_pred_binary_winner==0) ]\n",
        "diff.sample(5)['text'].values"
      ],
      "metadata": {
        "colab": {
          "base_uri": "https://localhost:8080/"
        },
        "id": "JPAjr4jnqcwX",
        "outputId": "bd112f90-44c1-4245-9a3a-adb896e115e1"
      },
      "execution_count": null,
      "outputs": [
        {
          "output_type": "execute_result",
          "data": {
            "text/plain": [
              "array([\"Punk and coward Tom Arnold Back-Up Twitter Account Suspended After TGP Report on Violent Threat Against 'Narcs'\",\n",
              "       'We used to be \"The Grand Old Party\" GOP, \"We are now, \"The Grand New Party\" and we need to form our own branch, and leave these spineless old Republicans behind...They act more like Dems, then Rep. anyway...all they think about is position, power and money...and we gave them all 3...Not. anymore...and if we want Trump or someone like Trump to lead us from now on, that\\'s our decision.. No More Politicians...We need powerful Business minded representation to lead our country. NO more of these leaders who just want to fill their pockets and live in big mansions, but do nothing for the people. ALL PEOPLE, black, white, brown, yellow, gay, straight, male, female...we all deserve to live in nice neighborhoods, have good jobs, and our children deserve higher education...We deserve to own businesses without fear of home grown terrorists burning them down, or looting them..New Party...JL',\n",
              "       'Ok Patriots! Meet John Cummings! Heâ\\x80\\x99s running against AOC! Letâ\\x80\\x99s help him get her sorry ass OUT of Congress!!! \\n\\nSupport Cummings For Congress â\\x80\\x94 Anedot',\n",
              "       'Awwww fuck. Itâ\\x80\\x99s all going to come down to Nevada. Trump has to make up 8,000 votes to win the election.',\n",
              "       'Worthless shit accomplished nothing but lining their own pockets!!'],\n",
              "      dtype=object)"
            ]
          },
          "metadata": {},
          "execution_count": 13
        }
      ]
    }
  ]
}