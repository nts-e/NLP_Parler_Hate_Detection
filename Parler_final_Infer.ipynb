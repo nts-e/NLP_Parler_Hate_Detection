{
  "cells": [
    {
      "cell_type": "markdown",
      "metadata": {
        "id": "view-in-github",
        "colab_type": "text"
      },
      "source": [
        "<a href=\"https://colab.research.google.com/github/nts-e/NLP_Parler_Hate_Detection/blob/main/Parler_final_Infer.ipynb\" target=\"_parent\"><img src=\"https://colab.research.google.com/assets/colab-badge.svg\" alt=\"Open In Colab\"/></a>"
      ]
    },
    {
      "cell_type": "markdown",
      "metadata": {
        "id": "7cT0h-e5Mykr"
      },
      "source": [
        "# Test run the updated BERT model"
      ]
    },
    {
      "cell_type": "markdown",
      "metadata": {
        "id": "A3Wz2UJ0Oi5k"
      },
      "source": [
        "## Instructions:\n",
        "1. Use the Presets cell to configure data and model.<br>\n",
        "2. Run all cells.<br>\n",
        "3. Collect the result csv from DATA_FOLDER_PATH.<br>"
      ]
    },
    {
      "cell_type": "markdown",
      "metadata": {
        "id": "OFOTiqrtNvyy"
      },
      "source": [
        "# Imports"
      ]
    },
    {
      "cell_type": "code",
      "execution_count": null,
      "metadata": {
        "id": "x4giRzM7NtHJ"
      },
      "outputs": [],
      "source": [
        "import numpy as np\n",
        "import pandas as pd\n",
        "import transformers\n",
        "import tensorflow as tf\n",
        "import pickle\n",
        "from transformers import BartForSequenceClassification, BartTokenizer\n",
        "import json\n",
        "from datetime import datetime\n",
        "from tensorflow.keras import models, layers, metrics, losses, optimizers"
      ]
    },
    {
      "cell_type": "markdown",
      "metadata": {
        "id": "SFyde3sfTOPi"
      },
      "source": [
        "# Code"
      ]
    },
    {
      "cell_type": "markdown",
      "source": [
        "## Presets"
      ],
      "metadata": {
        "id": "H98_QQYGcUa8"
      }
    },
    {
      "cell_type": "code",
      "source": [
        "DATA_FOLDER_PATH              = \"../Data/Samples/\"\n",
        "MODEL_FOLDER_PATH              = \"./\"\n",
        "hate_classifier_threshold = 0.5\n",
        "bert_model = 'BERT_3'\n",
        "posts_file = 'parler_data000000000010.notsampled'"
      ],
      "metadata": {
        "id": "rFHyrKEIcSr-"
      },
      "execution_count": null,
      "outputs": []
    },
    {
      "cell_type": "markdown",
      "metadata": {
        "id": "u9qxKHNAzZNm"
      },
      "source": [
        "## Data"
      ]
    },
    {
      "cell_type": "code",
      "execution_count": null,
      "metadata": {
        "id": "ccTY9ar1zbUL"
      },
      "outputs": [],
      "source": [
        "def load_data(big_dataset_file_name):\n",
        "  df = pd.read_json(f'{DATA_FOLDER_PATH}{big_dataset_file_name}.ndjson')\n",
        "  return df\n",
        "\n",
        "def load_csv(filename):\n",
        "  df = pd.read_csv(f'{DATA_FOLDER_PATH}{filename}.csv')\n",
        "  return df\n"
      ]
    },
    {
      "cell_type": "markdown",
      "metadata": {
        "id": "wZEpeD9qTRL_"
      },
      "source": [
        "## Classifier"
      ]
    },
    {
      "cell_type": "code",
      "execution_count": null,
      "metadata": {
        "id": "-Hbu75dyPLUj"
      },
      "outputs": [],
      "source": [
        "classifier_tokenizer = None\n",
        "classifier_model = None\n",
        "\n",
        "def load_classifier_model():\n",
        "  # load tokenizer\n",
        "  global classifier_tokenizer\n",
        "  base_model_name = 'distilbert-base-uncased'\n",
        "  classifier_tokenizer = transformers.DistilBertTokenizer.from_pretrained(base_model_name) \n",
        "\n",
        "  # load bert model\n",
        "  config = transformers.DistilBertConfig(dropout=0.2, attention_dropout=0.2) # Nitzan - config here is irrelevant\n",
        "  dbert_tf = transformers.TFDistilBertModel.from_pretrained(base_model_name, config=config, trainable=False)\n",
        "\n",
        "  return models.load_model(f'{MODEL_FOLDER_PATH}{bert_model}.h5', custom_objects={'TFDistilBertModel': dbert_tf})\n",
        "\n",
        "def classify(posts):\n",
        "  max_length = 190\n",
        "  X_tokenized = classifier_tokenizer(posts.to_list(), padding='max_length', max_length = max_length, truncation=True, return_attention_mask=True)\n",
        "  y_pred_proba = classifier_model.predict({'input_ids': np.array(X_tokenized['input_ids']), 'input_attention': np.array(X_tokenized['attention_mask'])})\n",
        "  # y_pred = np.array([y_pred_proba > hate_classifier_threshold], dtype=int).flatten()\n",
        "  return y_pred_proba.flatten()\n"
      ]
    },
    {
      "cell_type": "markdown",
      "metadata": {
        "id": "XeSQ-TVcUWOW"
      },
      "source": [
        "# Tests / Demo"
      ]
    },
    {
      "cell_type": "markdown",
      "metadata": {
        "id": "V0cDmckBE0Lq"
      },
      "source": [
        "## Init models"
      ]
    },
    {
      "cell_type": "code",
      "execution_count": null,
      "metadata": {
        "id": "Cg-qjFbLwODz"
      },
      "outputs": [],
      "source": [
        "classifier_model = load_classifier_model()"
      ]
    },
    {
      "cell_type": "markdown",
      "metadata": {
        "id": "4Q6uPVHfE4uk"
      },
      "source": [
        "## Load data"
      ]
    },
    {
      "cell_type": "code",
      "execution_count": null,
      "metadata": {
        "id": "plvuKtVpUVfe"
      },
      "outputs": [],
      "source": [
        "posts = load_csv(posts_file)"
      ]
    },
    {
      "cell_type": "markdown",
      "metadata": {
        "id": "TWia3nOpFCaw"
      },
      "source": [
        "## Test"
      ]
    },
    {
      "cell_type": "code",
      "execution_count": null,
      "metadata": {
        "id": "hJHGQ5dpYw57"
      },
      "outputs": [],
      "source": [
        "posts['bert'] = classify(posts['body'])\n",
        "posts[posts['bert'] > hate_classifier_threshold]\n",
        "df = pd.DataFrame(data=posts['body'])\n",
        "df['bert'] = posts['bert']\n",
        "df.to_csv(f'{DATA_FOLDER_PATH}{posts_file}.res.csv')"
      ]
    }
  ],
  "metadata": {
    "accelerator": "GPU",
    "colab": {
      "machine_shape": "hm",
      "provenance": [],
      "include_colab_link": true
    },
    "gpuClass": "premium",
    "kernelspec": {
      "display_name": "Python 3 (ipykernel)",
      "language": "python",
      "name": "python3"
    },
    "language_info": {
      "codemirror_mode": {
        "name": "ipython",
        "version": 3
      },
      "file_extension": ".py",
      "mimetype": "text/x-python",
      "name": "python",
      "nbconvert_exporter": "python",
      "pygments_lexer": "ipython3",
      "version": "3.9.13"
    }
  },
  "nbformat": 4,
  "nbformat_minor": 0
}