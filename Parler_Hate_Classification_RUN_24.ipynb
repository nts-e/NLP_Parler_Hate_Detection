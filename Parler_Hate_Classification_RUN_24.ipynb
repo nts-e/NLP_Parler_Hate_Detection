{
  "cells": [
    {
      "cell_type": "markdown",
      "metadata": {
        "id": "view-in-github",
        "colab_type": "text"
      },
      "source": [
        "<a href=\"https://colab.research.google.com/github/nts-e/NLP_Parler_Hate_Detection/blob/main/Parler_Hate_Classification_RUN_24.ipynb\" target=\"_parent\"><img src=\"https://colab.research.google.com/assets/colab-badge.svg\" alt=\"Open In Colab\"/></a>"
      ]
    },
    {
      "cell_type": "markdown",
      "source": [
        "**Run 24**\n",
        "\n",
        "Run description: train a BERT model based on the original annotated data"
      ],
      "metadata": {
        "id": "mvl7FaPVn5vH"
      }
    },
    {
      "cell_type": "markdown",
      "metadata": {
        "id": "OFOTiqrtNvyy"
      },
      "source": [
        "## Install Transformers Library"
      ]
    },
    {
      "cell_type": "code",
      "source": [
        "RUN_ID = '24'"
      ],
      "metadata": {
        "id": "dJBEBpkiwNBu"
      },
      "execution_count": null,
      "outputs": []
    },
    {
      "cell_type": "code",
      "source": [
        "!pip install transformers"
      ],
      "metadata": {
        "id": "SXt5faymyQnr"
      },
      "execution_count": null,
      "outputs": []
    },
    {
      "cell_type": "code",
      "execution_count": null,
      "metadata": {
        "colab": {
          "base_uri": "https://localhost:8080/"
        },
        "id": "x4giRzM7NtHJ",
        "outputId": "65dc472f-672c-463e-99c1-7c5374be34a0"
      },
      "outputs": [
        {
          "output_type": "stream",
          "name": "stdout",
          "text": [
            "Drive already mounted at /content/drive; to attempt to forcibly remount, call drive.mount(\"/content/drive\", force_remount=True).\n"
          ]
        }
      ],
      "source": [
        "import numpy as np\n",
        "import pandas as pd\n",
        "import transformers\n",
        "import matplotlib.pyplot as plt\n",
        "import tensorflow as tf\n",
        "\n",
        "from sklearn.model_selection  import train_test_split\n",
        "from sklearn.preprocessing    import LabelEncoder\n",
        "from datetime                 import datetime\n",
        "from tensorflow.keras         import models, layers, metrics, losses, optimizers, callbacks\n",
        "from sklearn.metrics          import confusion_matrix, precision_score, recall_score\n",
        "from tqdm                     import tqdm\n",
        "\n",
        "RANDOM_STATE                  = 1\n",
        "USE_GOOGLE_DRIVE_FOR_FILES    = True\n",
        "DATA_FOLDER_PATH              = \"/content/drive/My Drive/Data Science/BGU/NLP/Project/\"\n",
        "\n",
        "if USE_GOOGLE_DRIVE_FOR_FILES:\n",
        "  from google.colab import drive\n",
        "  drive.mount('/content/drive')\n",
        "\n",
        "# distilBERT tokenizer\n",
        "base_model_name = 'distilbert-base-uncased'\n",
        "tokenizer = transformers.DistilBertTokenizer.from_pretrained(base_model_name) "
      ]
    },
    {
      "cell_type": "markdown",
      "source": [
        "Utility methods"
      ],
      "metadata": {
        "id": "EFOaRxa-qhL8"
      }
    },
    {
      "cell_type": "code",
      "source": [
        "def f1(precision, recall):\n",
        "  return 2 / ((1/precision) + (1/recall))\n",
        "\n",
        "\n",
        "def get_confusion_matrix(y_valid, y_pred, labels, precision_recall=True):\n",
        "  cm = pd.DataFrame(confusion_matrix(y_valid, y_pred, labels=labels))\n",
        "  cm.columns.name='predicted'\n",
        "  cm.index.name='actual'\n",
        "\n",
        "  print(cm)\n",
        "\n",
        "  if precision_recall:\n",
        "    precision = precision_score(y_valid, y_pred)\n",
        "    recall = recall_score(y_valid, y_pred)\n",
        "    print(f'recall: {recall:.3f}, precision: {precision:.3f}, f1: {f1(precision, recall):.3f}')"
      ],
      "metadata": {
        "id": "CBUp1v2BqWPY"
      },
      "execution_count": null,
      "outputs": []
    },
    {
      "cell_type": "markdown",
      "metadata": {
        "id": "kKd-Tj3hOMsZ"
      },
      "source": [
        "## Load Dataset"
      ]
    },
    {
      "cell_type": "code",
      "execution_count": null,
      "metadata": {
        "colab": {
          "base_uri": "https://localhost:8080/",
          "height": 380
        },
        "id": "cwJrQFQgN_BE",
        "outputId": "ee463d44-5d2c-42ab-ff91-9096ed70ef9d"
      },
      "outputs": [
        {
          "output_type": "stream",
          "name": "stdout",
          "text": [
            "(10121, 4)\n"
          ]
        },
        {
          "output_type": "execute_result",
          "data": {
            "text/plain": [
              "                                 id  \\\n",
              "0  a113a2d777ca4211ae97a193eee44dc1   \n",
              "1  bb348c5f20a84be1bc3467d32312341c   \n",
              "2  39df38e04a44423f93ba1d1dc79070c9   \n",
              "3  68dd325894274be79f73767e92e64702   \n",
              "4  9503e349140b4bbe9e496f4c0f15f830   \n",
              "5  61b45f2913bd44a8956ee87cc651cd40   \n",
              "6  141482eeee684715a2f94aa8240b79bb   \n",
              "7  3901049ac6e24ec6949eefa303f84fba   \n",
              "8  4e4fdf2e34224691ba72860c1af730cd   \n",
              "9  cd1f69ffd35a4a28b7983fa400cb941b   \n",
              "\n",
              "                                                text  label_mean  \\\n",
              "0  Black men are taught that a word justifies all...        3.60   \n",
              "1  Biden and his supporters are claiming that Bid...        4.00   \n",
              "2  Pelosi; âOne way or another Joe Biden will b...        1.25   \n",
              "3  Northern California Declares Independence From...        3.00   \n",
              "4  Whistleblower claims top DHS officials sought ...        1.50   \n",
              "5  ð´â ï¸â ï¸â ï¸â ï¸â ï¸â ï¸â ï¸...        4.40   \n",
              "6  Black Chairman of Proud Boys Speaks Out after ...        3.80   \n",
              "7  This country is beyond f*cked. The President h...        3.60   \n",
              "8  This is why you build the wall! Democrats are ...        3.40   \n",
              "9  Mask police have no respect from me. ðoff, ...        3.75   \n",
              "\n",
              "   disputable_post  \n",
              "0             True  \n",
              "1             True  \n",
              "2            False  \n",
              "3             True  \n",
              "4            False  \n",
              "5            False  \n",
              "6            False  \n",
              "7             True  \n",
              "8            False  \n",
              "9            False  "
            ],
            "text/html": [
              "\n",
              "  <div id=\"df-a854a116-9df0-4a63-977c-06bed87228e8\">\n",
              "    <div class=\"colab-df-container\">\n",
              "      <div>\n",
              "<style scoped>\n",
              "    .dataframe tbody tr th:only-of-type {\n",
              "        vertical-align: middle;\n",
              "    }\n",
              "\n",
              "    .dataframe tbody tr th {\n",
              "        vertical-align: top;\n",
              "    }\n",
              "\n",
              "    .dataframe thead th {\n",
              "        text-align: right;\n",
              "    }\n",
              "</style>\n",
              "<table border=\"1\" class=\"dataframe\">\n",
              "  <thead>\n",
              "    <tr style=\"text-align: right;\">\n",
              "      <th></th>\n",
              "      <th>id</th>\n",
              "      <th>text</th>\n",
              "      <th>label_mean</th>\n",
              "      <th>disputable_post</th>\n",
              "    </tr>\n",
              "  </thead>\n",
              "  <tbody>\n",
              "    <tr>\n",
              "      <th>0</th>\n",
              "      <td>a113a2d777ca4211ae97a193eee44dc1</td>\n",
              "      <td>Black men are taught that a word justifies all...</td>\n",
              "      <td>3.60</td>\n",
              "      <td>True</td>\n",
              "    </tr>\n",
              "    <tr>\n",
              "      <th>1</th>\n",
              "      <td>bb348c5f20a84be1bc3467d32312341c</td>\n",
              "      <td>Biden and his supporters are claiming that Bid...</td>\n",
              "      <td>4.00</td>\n",
              "      <td>True</td>\n",
              "    </tr>\n",
              "    <tr>\n",
              "      <th>2</th>\n",
              "      <td>39df38e04a44423f93ba1d1dc79070c9</td>\n",
              "      <td>Pelosi; âOne way or another Joe Biden will b...</td>\n",
              "      <td>1.25</td>\n",
              "      <td>False</td>\n",
              "    </tr>\n",
              "    <tr>\n",
              "      <th>3</th>\n",
              "      <td>68dd325894274be79f73767e92e64702</td>\n",
              "      <td>Northern California Declares Independence From...</td>\n",
              "      <td>3.00</td>\n",
              "      <td>True</td>\n",
              "    </tr>\n",
              "    <tr>\n",
              "      <th>4</th>\n",
              "      <td>9503e349140b4bbe9e496f4c0f15f830</td>\n",
              "      <td>Whistleblower claims top DHS officials sought ...</td>\n",
              "      <td>1.50</td>\n",
              "      <td>False</td>\n",
              "    </tr>\n",
              "    <tr>\n",
              "      <th>5</th>\n",
              "      <td>61b45f2913bd44a8956ee87cc651cd40</td>\n",
              "      <td>ð´â ï¸â ï¸â ï¸â ï¸â ï¸â ï¸â ï¸...</td>\n",
              "      <td>4.40</td>\n",
              "      <td>False</td>\n",
              "    </tr>\n",
              "    <tr>\n",
              "      <th>6</th>\n",
              "      <td>141482eeee684715a2f94aa8240b79bb</td>\n",
              "      <td>Black Chairman of Proud Boys Speaks Out after ...</td>\n",
              "      <td>3.80</td>\n",
              "      <td>False</td>\n",
              "    </tr>\n",
              "    <tr>\n",
              "      <th>7</th>\n",
              "      <td>3901049ac6e24ec6949eefa303f84fba</td>\n",
              "      <td>This country is beyond f*cked. The President h...</td>\n",
              "      <td>3.60</td>\n",
              "      <td>True</td>\n",
              "    </tr>\n",
              "    <tr>\n",
              "      <th>8</th>\n",
              "      <td>4e4fdf2e34224691ba72860c1af730cd</td>\n",
              "      <td>This is why you build the wall! Democrats are ...</td>\n",
              "      <td>3.40</td>\n",
              "      <td>False</td>\n",
              "    </tr>\n",
              "    <tr>\n",
              "      <th>9</th>\n",
              "      <td>cd1f69ffd35a4a28b7983fa400cb941b</td>\n",
              "      <td>Mask police have no respect from me. ðoff, ...</td>\n",
              "      <td>3.75</td>\n",
              "      <td>False</td>\n",
              "    </tr>\n",
              "  </tbody>\n",
              "</table>\n",
              "</div>\n",
              "      <button class=\"colab-df-convert\" onclick=\"convertToInteractive('df-a854a116-9df0-4a63-977c-06bed87228e8')\"\n",
              "              title=\"Convert this dataframe to an interactive table.\"\n",
              "              style=\"display:none;\">\n",
              "        \n",
              "  <svg xmlns=\"http://www.w3.org/2000/svg\" height=\"24px\"viewBox=\"0 0 24 24\"\n",
              "       width=\"24px\">\n",
              "    <path d=\"M0 0h24v24H0V0z\" fill=\"none\"/>\n",
              "    <path d=\"M18.56 5.44l.94 2.06.94-2.06 2.06-.94-2.06-.94-.94-2.06-.94 2.06-2.06.94zm-11 1L8.5 8.5l.94-2.06 2.06-.94-2.06-.94L8.5 2.5l-.94 2.06-2.06.94zm10 10l.94 2.06.94-2.06 2.06-.94-2.06-.94-.94-2.06-.94 2.06-2.06.94z\"/><path d=\"M17.41 7.96l-1.37-1.37c-.4-.4-.92-.59-1.43-.59-.52 0-1.04.2-1.43.59L10.3 9.45l-7.72 7.72c-.78.78-.78 2.05 0 2.83L4 21.41c.39.39.9.59 1.41.59.51 0 1.02-.2 1.41-.59l7.78-7.78 2.81-2.81c.8-.78.8-2.07 0-2.86zM5.41 20L4 18.59l7.72-7.72 1.47 1.35L5.41 20z\"/>\n",
              "  </svg>\n",
              "      </button>\n",
              "      \n",
              "  <style>\n",
              "    .colab-df-container {\n",
              "      display:flex;\n",
              "      flex-wrap:wrap;\n",
              "      gap: 12px;\n",
              "    }\n",
              "\n",
              "    .colab-df-convert {\n",
              "      background-color: #E8F0FE;\n",
              "      border: none;\n",
              "      border-radius: 50%;\n",
              "      cursor: pointer;\n",
              "      display: none;\n",
              "      fill: #1967D2;\n",
              "      height: 32px;\n",
              "      padding: 0 0 0 0;\n",
              "      width: 32px;\n",
              "    }\n",
              "\n",
              "    .colab-df-convert:hover {\n",
              "      background-color: #E2EBFA;\n",
              "      box-shadow: 0px 1px 2px rgba(60, 64, 67, 0.3), 0px 1px 3px 1px rgba(60, 64, 67, 0.15);\n",
              "      fill: #174EA6;\n",
              "    }\n",
              "\n",
              "    [theme=dark] .colab-df-convert {\n",
              "      background-color: #3B4455;\n",
              "      fill: #D2E3FC;\n",
              "    }\n",
              "\n",
              "    [theme=dark] .colab-df-convert:hover {\n",
              "      background-color: #434B5C;\n",
              "      box-shadow: 0px 1px 3px 1px rgba(0, 0, 0, 0.15);\n",
              "      filter: drop-shadow(0px 1px 2px rgba(0, 0, 0, 0.3));\n",
              "      fill: #FFFFFF;\n",
              "    }\n",
              "  </style>\n",
              "\n",
              "      <script>\n",
              "        const buttonEl =\n",
              "          document.querySelector('#df-a854a116-9df0-4a63-977c-06bed87228e8 button.colab-df-convert');\n",
              "        buttonEl.style.display =\n",
              "          google.colab.kernel.accessAllowed ? 'block' : 'none';\n",
              "\n",
              "        async function convertToInteractive(key) {\n",
              "          const element = document.querySelector('#df-a854a116-9df0-4a63-977c-06bed87228e8');\n",
              "          const dataTable =\n",
              "            await google.colab.kernel.invokeFunction('convertToInteractive',\n",
              "                                                     [key], {});\n",
              "          if (!dataTable) return;\n",
              "\n",
              "          const docLinkHtml = 'Like what you see? Visit the ' +\n",
              "            '<a target=\"_blank\" href=https://colab.research.google.com/notebooks/data_table.ipynb>data table notebook</a>'\n",
              "            + ' to learn more about interactive tables.';\n",
              "          element.innerHTML = '';\n",
              "          dataTable['output_type'] = 'display_data';\n",
              "          await google.colab.output.renderOutput(dataTable, element);\n",
              "          const docLink = document.createElement('div');\n",
              "          docLink.innerHTML = docLinkHtml;\n",
              "          element.appendChild(docLink);\n",
              "        }\n",
              "      </script>\n",
              "    </div>\n",
              "  </div>\n",
              "  "
            ]
          },
          "metadata": {},
          "execution_count": 3
        }
      ],
      "source": [
        "df = pd.read_csv(f\"{DATA_FOLDER_PATH}parler_annotated_data.csv\")\n",
        "print(df.shape)\n",
        "df.head(10)"
      ]
    },
    {
      "cell_type": "markdown",
      "metadata": {
        "id": "7MPYnhBFABNi"
      },
      "source": [
        "Following the paper, threshold label_mean > 3 and omit label_mean which is exactly 3:"
      ]
    },
    {
      "cell_type": "code",
      "source": [
        "import seaborn as sns\n",
        "fig = plt.figure(figsize = (20, 5))\n",
        "splt = sns.histplot(data=df, x='label_mean',  bins=np.arange(1,5.05,0.05) )"
      ],
      "metadata": {
        "colab": {
          "base_uri": "https://localhost:8080/",
          "height": 335
        },
        "id": "3z8ENEg8eKFB",
        "outputId": "d0594dec-9df6-416b-a406-9c19c3daa3ee"
      },
      "execution_count": null,
      "outputs": [
        {
          "output_type": "display_data",
          "data": {
            "text/plain": [
              "<Figure size 1440x360 with 1 Axes>"
            ],
            "image/png": "[encoded data removed]"
          },
          "metadata": {
            "needs_background": "light"
          }
        }
      ]
    },
    {
      "cell_type": "markdown",
      "source": [
        "* Set as a binary label\n",
        "* Remove label_mean = 3"
      ],
      "metadata": {
        "id": "OBiUN-XroYsV"
      }
    },
    {
      "cell_type": "code",
      "execution_count": null,
      "metadata": {
        "id": "904iFjslihMx",
        "colab": {
          "base_uri": "https://localhost:8080/"
        },
        "outputId": "05ddc131-fc39-46b8-dc19-60a7fab7eb1e"
      },
      "outputs": [
        {
          "output_type": "stream",
          "name": "stdout",
          "text": [
            "(9277, 5)\n"
          ]
        },
        {
          "output_type": "execute_result",
          "data": {
            "text/plain": [
              "0    6053\n",
              "1    3224\n",
              "Name: label, dtype: int64"
            ]
          },
          "metadata": {},
          "execution_count": 4
        }
      ],
      "source": [
        "df['label'] = (df['label_mean']>3).astype('int32')\n",
        "df = df[df.label_mean!=3]\n",
        "print(df.shape)\n",
        "\n",
        "# check class distribution\n",
        "df['label'].value_counts()"
      ]
    },
    {
      "cell_type": "code",
      "source": [
        "positive_ratio = df[df.label==1]['label'].sum() / len(df)\n",
        "positive_ratio"
      ],
      "metadata": {
        "colab": {
          "base_uri": "https://localhost:8080/"
        },
        "id": "aKtsd4-NCHol",
        "outputId": "57606ac7-a09a-4032-c3a7-53e07248502c"
      },
      "execution_count": null,
      "outputs": [
        {
          "output_type": "execute_result",
          "data": {
            "text/plain": [
              "0.3475261399159211"
            ]
          },
          "metadata": {},
          "execution_count": 5
        }
      ]
    },
    {
      "cell_type": "markdown",
      "metadata": {
        "id": "GwxNnVm4AUnN"
      },
      "source": [
        "Plot the distribution of label_mean for the negative and positive classes:\n",
        "\n",
        "* 1805 values from the negative class (~30%) equals 1\n",
        "* 369 values from the positive class (~11%) equals 5\n"
      ]
    },
    {
      "cell_type": "code",
      "execution_count": null,
      "metadata": {
        "colab": {
          "base_uri": "https://localhost:8080/",
          "height": 282
        },
        "id": "t_6h9RsaIsrr",
        "outputId": "5574e085-d017-4271-dca2-b5ea32987220"
      },
      "outputs": [
        {
          "output_type": "execute_result",
          "data": {
            "text/plain": [
              "1805"
            ]
          },
          "metadata": {},
          "execution_count": 11
        },
        {
          "output_type": "display_data",
          "data": {
            "text/plain": [
              "<Figure size 432x288 with 1 Axes>"
            ],
            "image/png": "[encoded data removed]"
          },
          "metadata": {
            "needs_background": "light"
          }
        }
      ],
      "source": [
        "df[df.label==0]['label_mean'].hist();\n",
        "df[df.label_mean==1]['label_mean'].count()"
      ]
    },
    {
      "cell_type": "code",
      "execution_count": null,
      "metadata": {
        "colab": {
          "base_uri": "https://localhost:8080/",
          "height": 282
        },
        "id": "piIoufg6I40e",
        "outputId": "a07571fe-4b88-4dbb-971d-8a0ad62f64a0"
      },
      "outputs": [
        {
          "output_type": "execute_result",
          "data": {
            "text/plain": [
              "369"
            ]
          },
          "metadata": {},
          "execution_count": 12
        },
        {
          "output_type": "display_data",
          "data": {
            "text/plain": [
              "<Figure size 432x288 with 1 Axes>"
            ],
            "image/png": "[encoded data removed]"
          },
          "metadata": {
            "needs_background": "light"
          }
        }
      ],
      "source": [
        "df[df.label==1]['label_mean'].hist()\n",
        "df[df.label_mean==5]['label_mean'].count()"
      ]
    },
    {
      "cell_type": "markdown",
      "source": [
        "This is a generic code to concatenate auxilary training data. \n",
        "\n",
        "In this run (24) there's **no additional data** as this is the first BERT."
      ],
      "metadata": {
        "id": "2SDQyqYSpQl2"
      }
    },
    {
      "cell_type": "code",
      "source": [
        "mode_of_work = 2     # 1: drop_all_negative_additions; 2: add negative pro rata to the training set; 3: add file as is.\n",
        "\n",
        "df_loaded_additions = []\n",
        "df_train_additions = []\n",
        "\n",
        "for i,d in enumerate(df_loaded_additions):\n",
        "\n",
        "  d.columns = ['text_clean', 'bert', 'zshot', 'zshot_target']\n",
        "  d['label'] = -1\n",
        "  d['zshot'] = d['zshot'].astype('int')\n",
        "  d.loc[(d.bert==0) & (d.zshot==0), 'label'] = 0\n",
        "  d.loc[(d.bert==1) & (d.zshot==1) & (d.zshot_target=='0'), 'label'] = 0\n",
        "  d.loc[(d.bert==1) & (d.zshot==1) & (d.zshot_target!='0'), 'label'] = 1\n",
        "  d = d.drop(d[d.label==-1].index)\n",
        "  \n",
        "  if mode_of_work == 1:\n",
        "    df_train_additions.append(d.drop(d[d['label']==0].index))\n",
        "  elif mode_of_work ==2:\n",
        "    d_negs = d['label'].sum()\n",
        "    d_pos_to_sample = int( (d_negs / positive_ratio) * (1-positive_ratio))\n",
        "    temp = d[d.label==0].sample(d_pos_to_sample, random_state=RANDOM_STATE).copy()\n",
        "    d = d.drop(d[d['label']==0].index)\n",
        "    df_train_additions.append(pd.concat([d,temp]))\n",
        "  else:\n",
        "    df_train_additions.append(d)"
      ],
      "metadata": {
        "id": "CL7KisgX0ZCG"
      },
      "execution_count": null,
      "outputs": []
    },
    {
      "cell_type": "code",
      "source": [
        "if df_train_additions:\n",
        "  X_extended = df_train_additions[0]['text_clean']\n",
        "  y_extended = df_train_additions[0]['label']\n",
        "else:\n",
        "  X_extended = pd.Series(dtype='str')\n",
        "  y_extended = pd.Series(dtype='int')\n",
        "\n",
        "for i in range(1, len(df_train_additions)):\n",
        "  X_extended = pd.concat([X_extended, df_train_additions[i]['text_clean']])\n",
        "  y_extended = pd.concat([y_extended, df_train_additions[i]['label']])\n",
        "  print(X_extended.shape, \"\", y_extended.value_counts(), sep=\"\\n\")"
      ],
      "metadata": {
        "id": "cHimiGvn3YeQ"
      },
      "execution_count": null,
      "outputs": []
    },
    {
      "cell_type": "markdown",
      "metadata": {
        "id": "w82013gpBaU9"
      },
      "source": [
        "## EDA"
      ]
    },
    {
      "cell_type": "markdown",
      "source": [
        "No preprocessing"
      ],
      "metadata": {
        "id": "gYfNP9Qei7Wa"
      }
    },
    {
      "cell_type": "code",
      "execution_count": null,
      "metadata": {
        "id": "_wQFH6alBVut",
        "colab": {
          "base_uri": "https://localhost:8080/",
          "height": 70
        },
        "outputId": "5d6af6bc-c7d2-441b-f1e5-a5ababf80fd1"
      },
      "outputs": [
        {
          "output_type": "execute_result",
          "data": {
            "text/plain": [
              "'ð\\x9f\\x94´â\\x9a\\xa0ï¸\\x8fâ\\x9a\\xa0ï¸\\x8fâ\\x9a\\xa0ï¸\\x8fâ\\x9a\\xa0ï¸\\x8fâ\\x9a\\xa0ï¸\\x8fâ\\x9a\\xa0ï¸\\x8fâ\\x9a\\xa0ï¸\\x8fâ\\x9a\\xa0ï¸\\x8fâ\\x9a\\xa0ï¸\\x8fâ\\x9a\\xa0ï¸\\x8fâ\\x9a\\xa0ï¸\\x8fLISTEN IF ANYONE DOESNâ\\x80\\x99T LIKE MY POSTS OF ME CALLING OUT THE CROOKS AND DEEP STATE!! I DONâ\\x80\\x99T CARE WHAT YOU THINK!!! UNFOLLOW ME OR SHUT THE FUCK UP!!!! IF YOU CANâ\\x80\\x99T HANDLE THE TRUTH AND WANT YOUR VOTES AND MONEY CONTINUE TO BE STOLEN DONâ\\x80\\x99T LISTEN!!!!\\n\\nTHESE CRIMINALS NEED TO BE EXPOSED!!!!\\n\\nDONâ\\x80\\x99T LIKE TOO DAMN BAD!!!!!'"
            ],
            "application/vnd.google.colaboratory.intrinsic+json": {
              "type": "string"
            }
          },
          "metadata": {},
          "execution_count": 8
        }
      ],
      "source": [
        "df['text_clean'] = df['text']\n",
        "\n",
        "X = df['text_clean']\n",
        "y = df['label']\n",
        "\n",
        "# print an example\n",
        "df[\"text_clean\"][5]"
      ]
    },
    {
      "cell_type": "markdown",
      "metadata": {
        "id": "MKfWnApvOoE7"
      },
      "source": [
        "## Tokenize and split"
      ]
    },
    {
      "cell_type": "code",
      "execution_count": null,
      "metadata": {
        "id": "H0E_6dAt8jsB",
        "colab": {
          "base_uri": "https://localhost:8080/"
        },
        "outputId": "a285cb50-9e00-4a4f-82e4-f259c65081fc"
      },
      "outputs": [
        {
          "output_type": "execute_result",
          "data": {
            "text/plain": [
              "(7421,)"
            ]
          },
          "metadata": {},
          "execution_count": 9
        }
      ],
      "source": [
        "X_temp, X_test, y_temp, y_test = train_test_split(X, y, test_size=0.2, random_state=RANDOM_STATE, stratify=y)\n",
        "X_train, X_valid, y_train, y_valid = train_test_split(X_temp, y_temp, test_size=0.2, random_state=RANDOM_STATE, stratify=y_temp)\n",
        "\n",
        "X_train_and_valid_extended = pd.concat([X_train, X_valid, X_extended])\n",
        "y_train_and_valid_extended = pd.concat([y_train, y_valid, y_extended])\n",
        "\n",
        "X_train_and_valid_extended.shape"
      ]
    },
    {
      "cell_type": "code",
      "execution_count": null,
      "metadata": {
        "colab": {
          "base_uri": "https://localhost:8080/",
          "height": 337
        },
        "id": "9V03FxIK8SXk",
        "outputId": "dd896efe-2d28-445c-f9ab-bb5a4bb8230f"
      },
      "outputs": [
        {
          "output_type": "stream",
          "name": "stdout",
          "text": [
            "seq_len=[9, 19, 50, 177, 18, 14, 45, 10, 35, 4, 18, 4, 47, 6, 19, 49, 26, 140, 11, 15, 20, 13, 40, 26, 17, 8, 9, 85, 132, 67, 31, 12, 25, 2, 29, 7, 25, 19, 84, 2, 7, 37, 69, 167, 9, 6, 35, 80, 38, 10, 48, 11, 41, 21, 12, 11, 45, 15, 37, 121, 35, 12, 35, 35, 3, 150, 42, 5, 17, 13, 20, 25, 17, 20, 11, 6, 123, 12, 6, 49, 12, 16, 76, 67, 36, 24, 10, 8, 92, 55, 15, 4, 55, 36, 5, 22, 45, 9, 22, 13, 16, 101, 49, 10, 37, 13, 11, 20, 35, 18, 49, 46, 7, 62, 49, 14, 12, 107, 33, 1, 10, 28, 13, 9, 8, 10, 22, 43, 9, 38, 4, 75, 35, 5, 8, 23, 47, 12, 30, 21, 30, 50, 7, 48, 38, 15, 43, 14, 43, 22, 28, 15, 22, 6, 6, 41, 13, 12, 28, 17, 14, 35, 131, 94, 4, 13, 12, 42, 52, 14, 27, 29, 31, 16, 157, 22, 94, 4, 34, 22, 22, 108, 2, 16, 17, 18, 3, 22, 15, 34, 14, 13, 11, 24, 5, 17, 16, 16, 8, 4, 57, 20, 14, 20, 4, 7, 39, 52, 4, 22, 52, 8, 166, 34, 4, 6, 12, 34, 15, 38, 37, 90, 25, 76, 7, 73, 11, 27, 11, 44, 3, 32, 7, 7, 45, 3, 11, 35, 20, 35, 25, 5, 13, 54, 10, 4, 28, 37, 12, 46, 99, 11, 40, 17, 59, 3, 8, 15, 15, 10, 44, 24, 8, 47, 37, 30, 19, 5, 10, 113, 10, 19, 11, 21, 29, 50, 14, 166, 6, 27, 18, 86, 13, 25, 7, 49, 40, 9, 17, 12, 13, 12, 17, 17, 58, 46, 11, 33, 29, 13, 26, 24, 52, 24, 25, 83, 60, 101, 9, 14, 20, 34, 40, 71, 183, 7, 33, 16, 13, 5, 28, 10, 21, 17, 54, 19, 10, 89, 12, 40, 23, 30, 15, 136, 16, 14, 19, 19, 14, 59, 14, 58, 5, 150, 117, 7, 17, 16, 2, 13, 37, 15, 122, 12, 16, 58, 4, 46, 23, 57, 41, 142, 12, 36, 43, 2, 46, 126, 29, 28, 16, 9, 5, 23, 62, 23, 18, 6, 38, 25, 160, 148, 8, 27, 22, 23, 57, 15, 33, 38, 9, 114, 39, 17, 19, 20, 125, 17, 85, 23, 55, 11, 4, 50, 9, 182, 44, 23, 23, 52, 41, 16, 35, 9, 9, 51, 6, 18, 9, 25, 41, 60, 38, 8, 8, 12, 4, 3, 10, 52, 16, 60, 34, 10, 16, 14, 25, 37, 16, 22, 4, 4, 9, 21, 10, 14, 13, 13, 17, 9, 5, 24, 36, 17, 168, 4, 7, 23, 7, 30, 55, 69, 39, 144, 48, 33, 41, 58, 43, 22, 4, 17, 16, 6, 6, 104, 18, 58, 43, 67, 16, 37, 36, 56, 22, 23, 18, 36, 24, 24, 98, 13, 33, 13, 14, 32, 47, 35, 10, 19, 18, 28, 42, 11, 38, 27, 17, 67, 178, 47, 19, 19, 10, 5, 5, 123, 67, 15, 68, 3, 15, 35, 16, 6, 61, 24, 10, 6, 9, 67, 40, 4, 4, 9, 21, 4, 27, 7, 2, 8, 17, 8, 7, 43, 15, 28, 4, 11, 20, 51, 14, 39, 16, 35, 23, 51, 24, 3, 24, 15, 92, 5, 23, 13, 9, 12, 7, 23, 18, 17, 38, 32, 23, 16, 59, 42, 74, 4, 38, 32, 14, 39, 2, 57, 18, 19, 4, 13, 23, 65, 43, 14, 16, 6, 24, 3, 103, 70, 4, 31, 51, 9, 18, 11, 32, 23, 57, 25, 30, 18, 14, 128, 27, 27, 4, 25, 12, 8, 55, 3, 8, 7, 32, 19, 3, 19, 13, 22, 29, 13, 100, 8, 17, 44, 9, 21, 22, 67, 12, 10, 59, 11, 13, 19, 50, 2, 12, 21, 14, 67, 35, 4, 15, 13, 8, 18, 56, 82, 11, 16, 52, 2, 21, 13, 9, 20, 42, 36, 36, 4, 82, 5, 15, 9, 21, 15, 15, 14, 24, 44, 12, 16, 18, 26, 32, 26, 5, 28, 32, 14, 8, 5, 25, 40, 58, 10, 17, 14, 43, 2, 41, 12, 125, 20, 17, 26, 38, 51, 58, 5, 23, 54, 30, 15, 16, 47, 22, 114, 24, 4, 44, 17, 13, 22, 18, 18, 19, 26, 65, 35, 25, 72, 4, 14, 45, 5, 32, 13, 46, 5, 3, 45, 17, 72, 103, 9, 47, 12, 8, 25, 5, 2, 21, 23, 15, 49, 11, 49, 78, 11, 7, 4, 16, 49, 10, 27, 22, 19, 26, 19, 20, 23, 6, 20, 84, 110, 15, 9, 136, 50, 18, 28, 2, 47, 12, 38, 43, 22, 30, 31, 4, 40, 37, 28, 21, 90, 121, 33, 11, 7, 37, 31, 9, 10, 5, 132, 13, 19, 24, 69, 22, 7, 43, 132, 21, 60, 23, 5, 10, 20, 10, 4, 5, 10, 4, 4, 25, 28, 13, 11, 29, 10, 15, 11, 25, 9, 21, 10, 88, 72, 18, 15, 12, 30, 15, 39, 17, 32, 38, 57, 9, 59, 21, 19, 64, 3, 6, 17, 18, 78, 45, 20, 20, 49, 72, 34, 72, 31, 38, 34, 29, 9, 7, 15, 16, 53, 10, 36, 17, 12, 146, 50, 57, 12, 11, 78, 10, 10, 2, 6, 43, 25, 7, 14, 15, 12, 58, 13, 9, 5, 19, 46, 11, 34, 163, 3, 8, 7, 29, 23, 11, 10, 3, 53, 30, 39, 15, 22, 14, 30, 21, 35, 10, 19, 21, 150, 6, 27, 21, 10, 17, 19, 2, 34, 52, 7, 15, 65, 19, 35, 122, 41, 5, 169, 38, 16, 35, 3, 9, 19, 9, 15, 9, 18, 2, 23, 39, 14, 138, 27, 17, 16, 5, 32, 15, 6, 59, 15, 22, 28, 7, 15, 92, 16, 25, 51, 10, 34, 23, 37, 9, 13, 15, 5, 2, 32, 8, 15, 25, 9, 123, 2, 100, 7, 41, 14, 17, 46, 181, 8, 56, 14, 15, 14, 31, 42, 7, 2, 15, 17, 5, 87, 16, 70, 49, 25, 24, 6, 35, 75, 7, 33, 5, 10, 18, 4, 33, 36, 12, 149, 17, 11, 21, 26, 35, 15, 51, 143, 26, 9, 10, 70, 6, 41, 13, 3, 31, 4, 5, 119, 23, 39, 16, 37, 6, 20, 3, 86, 137, 20, 44, 14, 5, 46, 6, 44, 8, 16, 120, 14, 21, 26, 58, 33, 14, 4, 31, 69, 47, 9, 4, 27, 77, 6, 9, 32, 29, 54, 42, 11, 67, 32, 41, 19, 64, 29, 71, 17, 37, 10, 2, 50, 6, 113, 18, 6, 15, 8, 7, 8, 64, 5, 26, 16, 58, 15, 9, 22, 39, 29, 14, 32, 129, 51, 32, 14, 9, 88, 8, 35, 4, 21, 138, 12, 117, 9, 10, 52, 10, 11, 34, 15, 27, 24, 19, 62, 30, 19, 13, 44, 99, 5, 74, 19, 6, 2, 18, 34, 8, 72, 15, 8, 9, 66, 5, 30, 46, 5, 94, 39, 113, 8, 54, 13, 21, 1, 36, 7, 144, 19, 38, 62, 20, 39, 32, 13, 32, 28, 19, 53, 32, 12, 22, 7, 23, 43, 21, 61, 97, 29, 35, 77, 48, 5, 163, 8, 50, 43, 43, 139, 33, 35, 3, 52, 8, 6, 22, 130, 15, 17, 9, 28, 92, 3, 21, 37, 27, 27, 18, 19, 8, 18, 5, 42, 12, 18, 3, 83, 43, 46, 68, 11, 31, 49, 25, 21, 9, 39, 11, 17, 37, 90, 20, 10, 9, 13, 24, 24, 15, 43, 17, 7, 6, 169, 3, 14, 36, 168, 25, 11, 6, 9, 20, 103, 59, 43, 10, 2, 15, 43, 40, 33, 20, 15, 18, 5, 35, 127, 14, 82, 164, 35, 33, 12, 61, 69, 19, 16, 34, 7, 98, 42, 17, 22, 12, 22, 15, 102, 20, 14, 137, 19, 22, 122, 42, 21, 20, 28, 14, 14, 9, 15, 22, 47, 26, 7, 18, 13, 7, 15, 3, 27, 11, 35, 9, 23, 23, 8, 44, 99, 73, 11, 9, 26, 85, 81, 85, 40, 43, 56, 17, 18, 14, 20, 87, 35, 26, 88, 84, 26, 6, 21, 17, 21, 20, 121, 16, 169, 20, 2, 3, 26, 20, 47, 10, 13, 22, 6, 66, 9, 15, 6, 8, 32, 16, 11, 86, 56, 20, 10, 10, 46, 11, 16, 23, 27, 69, 34, 5, 18, 33, 34, 69, 16, 13, 25, 9, 21, 7, 5, 46, 47, 15, 23, 47, 52, 30, 8, 8, 34, 7, 20, 50, 14, 7, 31, 20, 12, 9, 31, 59, 11, 46, 3, 62, 40, 53, 22, 19, 13, 27, 11, 8, 34, 16, 16, 1, 37, 9, 8, 16, 17, 34, 3, 17, 37, 11, 17, 74, 33, 12, 17, 40, 65, 20, 23, 31, 15, 33, 12, 14, 30, 23, 4, 2, 8, 7, 6, 10, 48, 11, 13, 19, 3, 43, 159, 25, 37, 6, 37, 29, 11, 12, 42, 10, 15, 15, 26, 62, 142, 51, 28, 6, 10, 144, 75, 32, 16, 127, 23, 120, 32, 100, 100, 68, 36, 16, 184, 36, 9, 5, 92, 35, 13, 44, 40, 20, 41, 20, 11, 131, 12, 31, 7, 28, 44, 14, 23, 76, 38, 18, 85, 50, 73, 29, 12, 14, 36, 68, 47, 32, 2, 8, 39, 9, 3, 15, 17, 4, 8, 4, 49, 20, 79, 4, 13, 110, 44, 29, 9, 8, 12, 29, 85, 105, 155, 10, 3, 6, 38, 13, 101, 39, 5, 11, 38, 17, 12, 9, 11, 3, 26, 4, 5, 52, 23, 31, 164, 31, 42, 16, 58, 5, 21, 23, 26, 28, 13, 13, 10, 2, 8, 34, 24, 15, 8, 16, 172, 16, 16, 76, 7, 123, 30, 107, 66, 43, 6, 33, 16, 18, 76, 12, 42, 16, 13, 13, 13, 16, 26, 31, 47, 41, 40, 3, 3, 19, 25, 29, 58, 21, 19, 50, 9, 10, 27, 16, 14, 23, 16, 8, 14, 25, 45, 4, 86, 5, 142, 35, 30, 40, 46, 138, 64, 18, 36, 7, 17, 108, 92, 70, 25, 22, 1, 25, 19, 73, 6, 55, 27, 144, 20, 11, 76, 37, 32, 46, 11, 2, 18, 40, 51, 23, 11, 16, 61, 12, 9, 10, 141, 22, 9, 19, 8, 9, 98, 18, 18, 15, 4, 15, 14, 20, 16, 52, 45, 83, 13, 35, 54, 12, 20, 17, 56, 13, 36, 58, 29, 4, 3, 20, 16, 19, 34, 18, 11, 37, 18, 33, 32, 41, 43, 56, 13, 35, 57, 23, 21, 10, 87, 42, 27, 14, 56, 123, 27, 16, 8, 121, 14, 30, 17, 17, 18, 12, 51, 97, 41, 17, 95, 46, 23, 18, 8, 50, 70, 8, 19, 26, 4, 18, 6, 18, 22, 8, 23, 19, 12, 26, 20, 3, 14, 171, 67, 18, 1, 13, 50, 8, 18, 5, 149, 32, 103, 32, 16, 43, 63, 17, 29, 39, 7, 53, 12, 10, 9, 15, 15, 79, 22, 159, 19, 6, 3, 61, 8, 30, 11, 30, 9, 5, 3, 21, 55, 3, 71, 14, 28, 12, 19, 15, 26, 168, 63, 13, 7, 16, 38, 57, 37, 51, 9, 26, 8, 39, 22, 88, 15, 12, 15, 14, 7, 18, 3, 11, 16, 5, 42, 12, 11, 48, 10, 13, 11, 14, 26, 4, 24, 48, 43, 1, 27, 16, 4, 8, 33, 108, 10, 163, 11, 21, 10, 12, 183, 9, 9, 19, 3, 33, 45, 109, 9, 67, 12, 6, 6, 9, 45, 6, 14, 5, 13, 13, 14, 17, 9, 9, 12, 27, 14, 29, 56, 11, 21, 4, 17, 31, 84, 50, 25, 114, 27, 5, 16, 24, 32, 42, 14, 15, 57, 9, 13, 42, 8, 4, 85, 14, 186, 37, 17, 8, 9, 13, 14, 6, 17, 83, 19, 32, 42, 61, 65, 12, 10, 33, 10, 8, 9, 29, 43, 36, 17, 8, 24, 2, 29, 28, 69, 8, 26, 20, 168, 59, 6, 14, 31, 17, 69, 43, 30, 29, 13, 22, 4, 14, 10, 84, 22, 172, 12, 26, 23, 26, 8, 7, 22, 30, 36, 33, 45, 42, 8, 29, 17, 136, 68, 46, 15, 28, 7, 15, 30, 8, 33, 10, 23, 105, 15, 5, 10, 15, 35, 36, 36, 61, 23, 2, 21, 5, 14, 16, 28, 18, 2, 42, 39, 37, 19, 33, 30, 10, 130, 18, 16, 5, 114, 32, 15, 39, 16, 88, 23, 25, 43, 54, 15, 21, 10, 12, 13, 7, 44, 6, 39, 6, 23, 9, 47, 7, 165, 7, 11, 138, 10, 12, 24, 2, 8, 8, 46, 54, 19, 31, 37, 17, 21, 4, 11, 73, 6, 151, 59, 4, 35, 13, 34, 8, 3, 137, 13, 12, 33, 115, 2, 14, 41, 170, 69, 1, 21, 78, 26, 14, 3, 34, 51, 13, 4, 29, 63, 33, 53, 3, 27, 65, 14, 8, 123, 13, 36, 84, 11, 154, 42, 20, 4, 34, 35, 8, 6, 4, 20, 36, 50, 34, 17, 14, 17, 14, 42, 5, 27, 6, 18, 48, 19, 29, 3, 23, 61, 17, 5, 35, 22, 10, 42, 172, 12, 30, 17, 68, 18, 5, 31, 9, 12, 20, 3, 14, 28, 40, 30, 15, 125, 16, 15, 2, 47, 13, 174, 93, 13, 43, 13, 3, 15, 162, 3, 18, 121, 14, 76, 15, 18, 29, 3, 31, 32, 37, 17, 23, 105, 85, 68, 22, 32, 152, 78, 4, 11, 6, 18, 12, 172, 31, 57, 7, 25, 19, 156, 14, 25, 2, 39, 21, 20, 84, 50, 19, 39, 52, 24, 19, 10, 16, 26, 7, 20, 10, 102, 158, 73, 7, 53, 13, 13, 18, 12, 7, 39, 17, 46, 115, 31, 56, 13, 45, 11, 24, 29, 68, 59, 14, 35, 35, 34, 18, 14, 34, 4, 22, 12, 38, 30, 5, 13, 101, 23, 32, 27, 159, 19, 2, 28, 114, 7, 15, 23, 18, 71, 9, 108, 8, 68, 15, 164, 14, 14, 30, 152, 36, 32, 182, 83, 5, 64, 42, 57, 11, 38, 5, 17, 113, 75, 55, 22, 21, 44, 37, 53, 27, 20, 31, 18, 36, 15, 9, 85, 29, 57, 50, 19, 31, 34, 5, 23, 51, 10, 11, 21, 12, 7, 12, 32, 6, 17, 39, 18, 28, 25, 30, 82, 101, 16, 81, 18, 4, 9, 175, 6, 13, 5, 8, 3, 159, 2, 5, 98, 62, 32, 139, 5, 20, 66, 68, 4, 77, 11, 53, 89, 16, 10, 42, 28, 21, 3, 12, 41, 9, 17, 20, 18, 147, 50, 20, 44, 69, 8, 44, 10, 13, 8, 38, 20, 9, 29, 108, 11, 37, 5, 12, 14, 28, 15, 32, 11, 40, 9, 24, 11, 6, 47, 15, 8, 6, 28, 21, 17, 123, 24, 152, 30, 26, 15, 34, 29, 20, 43, 18, 15, 3, 14, 38, 40, 18, 8, 7, 87, 31, 17, 8, 19, 82, 20, 23, 3, 40, 5, 150, 24, 29, 15, 11, 14, 14, 14, 44, 36, 87, 19, 18, 10, 38, 31, 41, 3, 3, 155, 9, 17, 13, 77, 31, 62, 21, 17, 18, 16, 43, 9, 8, 5, 18, 15, 17, 32, 4, 21, 62, 28, 14, 68, 24, 41, 39, 18, 23, 10, 67, 127, 4, 27, 11, 36, 30, 39, 5, 55, 30, 8, 9, 27, 9, 9, 16, 25, 16, 34, 65, 20, 55, 34, 42, 56, 6, 3, 31, 63, 41, 10, 121, 10, 24, 26, 158, 15, 33, 8, 14, 24, 3, 9, 2, 8, 27, 14, 8, 20, 9, 32, 2, 26, 31, 42, 64, 21, 19, 9, 107, 19, 16, 22, 26, 17, 7, 19, 19, 27, 14, 10, 36, 55, 18, 18, 34, 10, 42, 51, 25, 12, 21, 20, 7, 32, 10, 45, 27, 22, 43, 46, 21, 56, 40, 146, 98, 7, 29, 170, 114, 24, 23, 14, 77, 91, 18, 22, 29, 31, 24, 1, 14, 4, 28, 29, 20, 10, 20, 23, 19, 17, 32, 50, 98, 20, 14, 18, 31, 14, 16, 9, 5, 7, 63, 28, 38, 3, 81, 16, 110, 13, 17, 31, 4, 6, 39, 83, 26, 20, 11, 15, 5, 3, 12, 37, 11, 38, 14, 7, 15, 74, 15, 22, 52, 39, 62, 79, 34, 14, 9, 19, 8, 40, 37, 13, 36, 34, 20, 8, 8, 5, 23, 10, 13, 52, 11, 38, 16, 165, 4, 22, 30, 15, 12, 90, 4, 69, 168, 16, 11, 25, 15, 35, 7, 25, 42, 68, 8, 20, 19, 39, 28, 14, 170, 26, 4, 10, 35, 2, 62, 14, 8, 10, 26, 51, 17, 40, 10, 16, 25, 27, 23, 34, 11, 16, 53, 50, 36, 43, 32, 27, 49, 14, 28, 11, 36, 53, 14, 64, 10, 7, 13, 11, 42, 11, 49, 12, 29, 25, 9, 16, 14, 147, 21, 31, 43, 38, 14, 138, 63, 41, 19, 37, 16, 7, 40, 3, 45, 43, 17, 176, 91, 12, 32, 90, 51, 27, 28, 98, 16, 11, 33, 51, 74, 42, 12, 14, 83, 16, 39, 76, 124, 27, 117, 11, 36, 19, 10, 54, 29, 9, 56, 35, 104, 42, 8, 19, 40, 34, 61, 39, 22, 4, 16, 70, 49, 51, 8, 33, 113, 44, 21, 24, 20, 23, 9, 39, 4, 84, 3, 22, 8, 4, 60, 11, 124, 79, 27, 33, 56, 11, 6, 41, 33, 35, 76, 20, 5, 169, 8, 13, 40, 53, 32, 20, 15, 13, 7, 77, 23, 42, 119, 2, 4, 23, 11, 39, 72, 14, 41, 15, 13, 14, 54, 14, 14, 74, 60, 17, 3, 12, 13, 13, 77, 41, 39, 38, 18, 10, 22, 15, 6, 43, 5, 29, 34, 25, 32, 36, 20, 14, 46, 59, 23, 23, 17, 46, 5, 133, 46, 14, 11, 68, 4, 15, 22, 8, 32, 15, 27, 59, 41, 18, 11, 184, 152, 46, 170, 13, 17, 9, 25, 13, 111, 21, 10, 55, 11, 15, 15, 30, 11, 12, 29, 15, 38, 16, 4, 56, 38, 13, 22, 39, 135, 8, 20, 10, 12, 16, 20, 53, 13, 28, 20, 30, 7, 6, 9, 21, 17, 10, 17, 11, 37, 58, 20, 38, 50, 6, 27, 15, 3, 18, 22, 16, 12, 41, 59, 57, 10, 25, 26, 20, 30, 14, 10, 31, 15, 21, 14, 40, 34, 28, 26, 3, 167, 45, 6, 53, 8, 26, 9, 23, 7, 25, 14, 57, 33, 40, 15, 25, 22, 62, 26, 20, 27, 17, 67, 9, 22, 31, 15, 22, 67, 12, 31, 30, 50, 13, 33, 9, 11, 11, 24, 17, 13, 11, 58, 23, 61, 12, 84, 5, 19, 7, 56, 36, 55, 19, 148, 10, 4, 36, 27, 27, 5, 45, 24, 50, 10, 13, 16, 24, 27, 165, 45, 35, 40, 17, 70, 93, 51, 12, 29, 36, 129, 135, 61, 10, 2, 34, 67, 2, 16, 19, 18, 7, 37, 18, 4, 8, 150, 19, 5, 11, 21, 14, 29, 16, 3, 12, 6, 92, 167, 19, 8, 36, 10, 2, 31, 32, 12, 17, 144, 44, 30, 22, 18, 38, 13, 12, 18, 11, 19, 13, 24, 13, 27, 37, 42, 26, 12, 13, 16, 22, 47, 17, 14, 11, 20, 18, 9, 49, 44, 45, 11, 15, 19, 7, 23, 14, 74, 171, 41, 21, 16, 4, 11, 29, 11, 18, 78, 15, 18, 5, 39, 12, 13, 8, 1, 6, 20, 30, 70, 28, 17, 14, 53, 48, 13, 12, 28, 20, 11, 32, 27, 17, 19, 8, 25, 12, 14, 13, 4, 3, 5, 119, 23, 61, 30, 21, 35, 85, 27, 21, 29, 16, 9, 60, 56, 5, 8, 8, 31, 10, 3, 51, 23, 52, 17, 11, 12, 8, 47, 13, 36, 2, 25, 38, 21, 16, 4, 29, 24, 8, 87, 82, 40, 18, 24, 5, 50, 106, 10, 75, 16, 47, 32, 16, 88, 114, 6, 32, 6, 6, 93, 179, 24, 21, 38, 15, 78, 17, 13, 39, 12, 38, 56, 14, 5, 17, 2, 20, 2, 9, 20, 16, 25, 11, 10, 23, 3, 3, 22, 5, 46, 6, 19, 26, 12, 13, 26, 10, 17, 3, 42, 9, 17, 12, 20, 9, 156, 41, 40, 24, 11, 35, 20, 7, 28, 28, 43, 4, 190, 34, 10, 6, 13, 53, 16, 29, 17, 18, 109, 8, 6, 60, 7, 75, 23, 11, 6, 118, 51, 30, 26, 14, 40, 5, 54, 48, 189, 8, 8, 7, 76, 34, 13, 16, 13, 21, 33, 9, 12, 5, 63, 28, 6, 12, 46, 54, 81, 17, 12, 21, 15, 92, 21, 110, 41, 32, 7, 10, 9, 11, 5, 17, 7, 13, 36, 21, 46, 45, 3, 26, 30, 3, 33, 53, 78, 47, 16, 12, 14, 18, 52, 10, 15, 5, 85, 56, 27, 12, 53, 53, 138, 133, 7, 7, 4, 159, 19, 17, 136, 7, 105, 19, 6, 22, 9, 17, 11, 27, 41, 35, 6, 5, 8, 28, 28, 21, 3, 27, 30, 14, 28, 10, 9, 65, 13, 13, 41, 13, 13, 118, 55, 24, 24, 3, 16, 107, 92, 57, 6, 3, 8, 39, 33, 43, 14, 23, 60, 32, 139, 10, 35, 15, 47, 16, 13, 59, 56, 23, 16, 51, 18, 6, 24, 5, 7, 25, 10, 4, 16, 8, 143, 21, 27, 4, 65, 19, 57, 10, 33, 17, 13, 22, 15, 31, 17, 31, 50, 103, 21, 35, 27, 20, 37, 35, 18, 74, 29, 106, 9, 18, 5, 27, 46, 18, 112, 25, 41, 29, 25, 31, 11, 116, 16, 11, 51, 30, 15, 15, 20, 96, 3, 23, 22, 2, 11, 53, 20, 3, 18, 5, 36, 23, 48, 12, 18, 4, 9, 8, 21, 12, 30, 26, 20, 24, 38, 9, 37, 19, 14, 8, 17, 11, 5, 17, 54, 98, 7, 5, 40, 69, 3, 13, 43, 18, 48, 29, 26, 82, 36, 13, 26, 4, 39, 176, 10, 130, 64, 11, 13, 36, 28, 44, 39, 172, 61, 38, 9, 21, 39, 173, 30, 15, 48, 16, 52, 3, 24, 135, 5, 38, 123, 7, 17, 11, 164, 62, 9, 4, 27, 22, 4, 3, 14, 4, 27, 11, 16, 13, 11, 103, 77, 15, 19, 41, 8, 7, 60, 29, 10, 13, 33, 20, 43, 5, 5, 58, 142, 26, 19, 14, 7, 54, 34, 46, 48, 7, 68, 19, 10, 101, 30, 58, 40, 5, 46, 12, 13, 34, 61, 11, 47, 34, 12, 78, 18, 92, 35, 7, 4, 12, 41, 83, 18, 47, 27, 100, 23, 3, 47, 14, 13, 16, 4, 51, 7, 14, 37, 21, 15, 23, 80, 2, 37, 17, 5, 14, 39, 110, 30, 13, 14, 32, 16, 58, 19, 5, 12, 28, 87, 7, 134, 28, 6, 21, 14, 20, 30, 81, 46, 32, 23, 35, 21, 12, 10, 18, 9, 10, 55, 19, 37, 8, 6, 48, 32, 10, 69, 43, 18, 12, 49, 13, 59, 4, 27, 43, 11, 56, 25, 21, 11, 53, 30, 13, 8, 62, 42, 66, 97, 5, 133, 34, 9, 67, 18, 6, 43, 23, 4, 18, 7, 18, 31, 137, 28, 65, 6, 11, 33, 70, 26, 49, 26, 31, 18, 4, 19, 131, 10, 76, 12, 75, 21, 30, 3, 13, 18, 27, 9, 10, 14, 21, 170, 6, 62, 111, 25, 8, 10, 45, 12, 46, 48, 14, 26, 36, 15, 7, 17, 91, 104, 25, 33, 28, 12, 76, 32, 11, 59, 7, 13, 7, 7, 7, 15, 6, 24, 84, 43, 62, 15, 8, 57, 16, 31, 22, 21, 45, 41, 5, 27, 36, 23, 29, 8, 112, 38, 31, 10, 33, 40, 39, 30, 175, 29, 66, 168, 71, 3, 26, 17, 142, 81, 84, 159, 34, 16, 7, 85, 31, 134, 5, 8, 41, 40, 19, 47, 65, 7, 11, 61, 5, 4, 125, 61, 30, 9, 42, 7, 28, 22, 16, 38, 78, 10, 21, 48, 20, 15, 54, 46, 29, 29, 42, 42, 45, 56, 2, 99, 25, 12, 5, 17, 41, 43, 14, 59, 12, 27, 16, 10, 70, 20, 36, 24, 23, 6, 27, 30, 9, 94, 46, 19, 2, 20, 19, 10, 3, 166, 39, 29, 43, 97, 35, 9, 43, 19, 42, 17, 13, 25, 28, 17, 6, 41, 51, 97, 13, 49, 15, 12, 19, 11, 9, 94, 13, 58, 14, 9, 45, 4, 164, 23, 5, 4, 17, 19, 46, 25, 16, 27, 12, 33, 71, 73, 3, 35, 101, 72, 50, 41, 90, 32, 11, 1, 27, 20, 2, 7, 15, 15, 40, 17, 21, 75, 7, 4, 57, 22, 137, 21, 99, 53, 6, 70, 129, 22, 12, 7, 19, 24, 29, 9, 33, 22, 21, 24, 48, 20, 42, 8, 12, 9, 14, 45, 85, 37, 30, 22, 16, 21, 5, 19, 18, 14, 41, 13, 31, 19, 55, 21, 15, 136, 69, 157, 15, 15, 38, 10, 30, 30, 10, 22, 48, 149, 13, 6, 7, 48, 185, 16, 24, 31, 10, 69, 5, 28, 26, 8, 23, 37, 34, 19, 13, 28, 11, 17, 10, 39, 5, 3, 38, 30, 14, 24, 27, 32, 3, 13, 3, 134, 114, 22, 26, 20, 15, 20, 47, 142, 20, 169, 51, 18, 25, 72, 38, 13, 13, 25, 16, 23, 9, 22, 5, 114, 20, 13, 46, 10, 21, 10, 31, 27, 181, 38, 5, 118, 2, 12, 15, 11, 6, 11, 12, 15, 24, 41, 17, 31, 22, 4, 28, 22, 31, 8, 34, 8, 3, 98, 134, 29, 34, 2, 22, 25, 70, 20, 11, 14, 15, 117, 48, 26, 10, 9, 19, 17, 3, 13, 39, 17, 116, 15, 41, 7, 15, 12, 5, 3, 8, 24, 5, 59, 8, 17, 13, 91, 19, 19, 20, 47, 12, 14, 3, 27, 105, 70, 78, 8, 36, 11, 93, 52, 100, 25, 117, 106, 3, 6, 33, 12, 14, 37, 7, 12, 33, 107, 5, 25, 44, 20, 40, 24, 25, 34, 79, 41, 16, 19, 17, 4, 25, 43, 18, 2, 29, 5, 12, 49, 173, 23, 40, 18, 4, 18, 67, 16, 155, 9, 12, 71, 32, 27, 4, 24, 61, 15, 15, 67, 8, 4, 14, 4, 19, 22, 13, 87, 73, 31, 54, 30, 35, 29, 57, 61, 10, 16, 44, 27, 17, 30, 18, 28, 10, 9, 83, 9, 23, 67, 149, 156, 65, 55, 11, 18, 13, 33, 94, 5, 48, 3, 58, 124, 156, 15, 51, 49, 135, 42, 40, 37, 33, 141, 21, 11, 60, 44, 13, 52, 41, 18, 18, 39, 39, 8, 17, 68, 10, 16, 11, 6, 14, 116, 153, 7, 56, 10, 34, 17, 28, 28, 7, 5, 39, 16, 16, 13, 14, 68, 58, 5, 162, 42, 22, 20, 11, 6, 30, 45, 5, 128, 32, 48, 26, 14, 21, 67, 76, 16, 50, 84, 25, 13, 47, 7, 29, 12, 19, 13, 3, 7, 92, 5, 59, 80, 7, 35, 4, 23, 17, 4, 13, 33, 39, 9, 9, 45, 19, 27, 35, 12, 17, 13, 14, 103, 10, 33, 10, 23, 46, 142, 20, 29, 22, 16, 33, 18, 3, 10, 8, 21, 2, 51, 5, 22, 35, 6, 22, 15, 38, 47, 41, 53, 62, 18, 26, 19, 112, 10, 17, 26, 15, 140, 29, 30, 63, 50, 5, 23, 64, 10, 32, 13, 14, 21, 6, 18, 6, 49, 23, 18, 5, 55, 32, 45, 5, 44, 4, 10, 26, 17, 5, 6, 10, 182, 30, 24, 22, 46, 21, 8, 51, 13, 52, 21, 31, 69, 64, 10, 7, 24, 66, 33, 19, 22, 27, 8, 28, 4, 25, 6, 2, 11, 29, 21, 115, 2, 79, 2, 27, 18, 50, 17, 4, 8, 91, 47, 46, 30, 79, 36, 18, 30, 18, 3, 40, 2, 131, 26, 21, 3, 5, 8, 44, 20, 70, 44, 30, 28, 115, 1, 21, 78, 16, 31, 14, 18, 15, 16, 17, 4, 105, 26, 24, 9, 4, 37, 11, 106, 24, 29, 10, 17, 2, 15, 10, 8, 30, 17, 28, 24, 82, 13, 6, 18, 5, 22, 33, 13, 85, 19, 58, 79, 27, 26, 19, 2, 53, 62, 12, 71, 4, 47, 56, 4, 12, 4, 91, 60, 10, 17, 18, 10, 28, 18, 13, 48, 143, 8, 38, 7, 104, 51, 19, 27, 26, 15, 10, 13, 33, 27, 27, 6, 72, 23, 63, 23, 50, 36, 16, 164, 16, 163, 13, 4, 23, 30, 8, 34, 11, 31, 54, 127, 12, 59, 16, 139, 134, 162, 9, 87, 14, 8, 34, 7, 8, 150, 150, 29, 12, 58, 13, 15, 13, 8, 43, 19, 128, 14, 16, 21, 8, 142, 10, 47, 19, 120, 33, 37, 44, 20, 14, 27, 30, 40, 70, 6, 17, 13, 33, 27, 11, 51, 35, 17, 80, 37, 17, 47, 5, 10, 27, 30, 38, 6, 2, 27, 8, 15, 19, 30, 32, 15, 22, 70, 126, 128, 12, 36, 10, 20, 8, 10, 27, 42, 60, 29, 17, 9, 28, 13, 18, 88, 53, 29, 74, 64, 70, 8, 33, 6, 8, 34, 26, 30, 11, 14, 3, 26, 17, 86, 52, 8, 10, 6, 12, 9, 6, 141, 34, 15, 14, 16, 70, 32, 15, 3, 15, 70, 47, 30, 10, 33, 40, 13, 25, 11, 6, 16, 4, 7, 40, 4, 16, 33, 40, 15, 8, 46, 113, 35, 26, 50, 55, 25, 43, 27, 10, 4, 29, 27, 7, 20, 29, 34, 7, 77, 10, 35, 34, 43, 19, 24, 27, 6, 12, 16, 11, 90, 20, 19, 9, 73, 24, 12, 6, 10, 26, 9, 27, 31, 62, 70, 9, 14, 16, 24, 8, 21, 11, 16, 6, 7, 15, 43, 31, 53, 12, 12, 21, 26, 51, 10, 14, 11, 12, 28, 23, 147, 14, 26, 12, 58, 4, 13, 4, 3, 24, 28, 37, 10, 5, 6, 76, 18, 2, 26, 9, 22, 47, 19, 27, 32, 93, 5, 17, 26, 43, 10, 32, 160, 46, 121, 80, 75, 42, 22, 14, 33, 55, 27, 15, 14, 3, 7, 118, 20, 9, 48, 11, 178, 47, 16, 9, 98, 33, 28, 16, 26, 13, 18, 58, 26, 62, 7, 18, 29, 12, 80, 9, 40, 8, 13, 4, 5, 11, 56, 59, 42, 16, 16, 44, 93, 90, 5, 31, 24, 17, 17, 19, 25, 66, 11, 36, 19, 30, 22, 44, 6, 29, 3, 29, 5, 18, 20, 62, 7, 30, 13, 45, 11, 1, 14, 34, 5, 7, 90, 18, 9, 34, 37, 37, 12, 17, 48, 6, 59, 15, 12, 123, 3, 12, 21, 32, 22, 6, 15, 44, 14, 7, 13, 79, 22, 4, 61, 7, 9, 20, 11, 39, 54, 10, 19, 7, 11, 17, 5, 23, 3, 6, 41, 13, 31, 14, 10, 125, 3, 16, 107, 8, 34, 64, 53, 12, 5, 47, 144, 88, 13, 16, 5, 18, 38, 27, 26, 74, 56, 6, 43, 12, 167, 9, 18, 13, 33, 104, 20, 15, 9, 52, 41, 11, 30, 29, 41, 6, 14, 7, 75, 25, 8, 21, 9, 8, 41, 48, 26, 13, 26, 95, 49, 12, 44, 15, 3, 33, 28, 8, 21, 5, 70, 30, 14, 4, 7, 43, 25, 13, 37, 18, 14, 4, 40, 14, 2, 23, 22, 36, 52, 30, 29, 18, 24, 25, 32, 34, 15, 17, 7, 1, 89, 17, 17, 10, 21, 8, 26, 15, 13, 17, 16, 5, 34, 19, 3, 11, 10, 10, 52, 80, 23, 63, 7, 11, 32, 7, 142, 66, 41, 189, 8, 29, 30, 4, 10, 38, 11, 38, 55, 8, 40, 25, 15, 7, 25, 27, 37, 27, 47, 44, 38, 24, 26, 24, 33, 17, 7, 32, 14, 10, 22, 18, 10, 163, 24, 24, 35, 103, 32, 16, 2, 14, 43, 17, 29, 56, 18, 2, 34, 19, 8, 6, 60, 15, 15, 16, 55, 55, 22, 54, 56, 40, 100, 32, 43, 20, 10, 35, 75, 90, 22, 22, 12, 16, 7, 99, 6, 29, 39, 10, 19, 25, 29, 25, 10, 2, 7, 8, 20, 15, 20, 4, 48, 26, 12, 22, 21, 2, 42, 7, 18, 4, 15, 16, 49, 35, 28, 17, 58, 11, 6, 11, 39, 122, 27, 48, 102, 17, 100, 31, 29, 85, 33, 23, 33, 115, 14, 28, 59, 4, 22, 8, 8, 36, 14, 45, 18, 15, 77, 57, 32, 16, 31, 16, 18, 19, 63, 31, 16, 18, 37, 59, 13, 81, 9, 8, 8, 1, 10, 48, 34, 50, 4, 6, 36, 25, 17, 46, 33, 52, 26, 4, 77, 13, 2, 24, 14, 27, 50, 15, 33, 71, 20, 16, 33, 5, 44, 39, 18, 7, 30, 24, 16, 16, 18, 145, 85, 21, 41, 19, 14, 3, 90, 80, 21, 27, 15, 34, 112, 18, 12, 25, 34, 9, 49, 36, 30, 2, 37, 14, 37, 50, 42, 35, 15, 13, 168, 87, 5, 20, 8, 7, 23, 36, 13, 15, 14, 15, 9, 61, 110, 110, 10, 43, 14, 12, 15, 139, 15, 24, 21, 25, 3, 28, 7, 25, 38, 18, 28, 14, 16, 11, 14, 26, 18, 81, 77, 9, 23, 62, 97, 16, 39, 3, 26, 8, 8, 60, 8, 18, 39, 15, 35, 40, 86, 170, 17, 17, 7, 19, 27, 26, 11, 18, 36, 23, 16, 14, 69, 44, 34, 31, 11, 16, 49, 23, 25, 4, 32, 30, 28, 104, 16, 17, 86, 41, 32, 19, 9, 15, 9, 6, 21, 7, 23, 5, 174, 47, 33, 5, 2, 82, 119, 10, 5, 64, 115, 5, 15, 29, 28, 23, 32, 52, 47, 159, 4, 109, 10, 23, 13, 16, 40, 5, 20, 20, 3, 68, 57, 13, 32, 24, 18, 48, 29, 75, 90, 28, 26, 64, 8, 23, 35, 69, 73, 66, 10, 13, 37, 100, 3, 12, 27, 7, 94, 16, 11, 116, 14, 25, 10, 47, 4, 14, 146, 18, 17, 12, 43, 14, 25, 4, 6, 2, 17, 13, 19, 56, 63, 4, 40, 116, 16, 21, 52, 41, 26, 11, 7, 67, 9, 13, 22, 42, 13, 14, 13, 8, 84, 8, 85, 160, 46, 7, 18, 46, 10, 5, 14, 19, 7, 64, 22, 102, 9, 8, 13, 13, 7, 8, 8, 12, 10, 6, 50, 27, 26, 3, 18, 16, 9, 10, 14, 34, 17, 162, 21, 41, 29, 31, 16, 44, 19, 27, 32, 26, 13, 35, 18, 19, 174, 19, 58, 22, 6, 54, 142, 15, 37, 36, 27, 20, 20, 10, 18, 11, 17, 111, 36, 6, 30, 25, 124, 18, 27, 81, 44, 36, 52, 22, 5, 49, 32, 36, 27, 11, 39, 68, 3, 5, 3, 26, 18, 64, 17, 19, 59, 24, 76, 28, 102, 131, 95, 99, 10, 2, 31, 166, 12, 3, 72, 25, 40, 26, 25, 8, 33, 38, 27, 46, 69, 18, 53, 45, 15, 38, 24, 58, 65, 43, 37, 43, 178, 34, 42, 26, 13, 11, 38, 86, 11, 49, 38, 24, 40, 5, 51, 22, 6, 44, 44, 35, 57, 9, 36, 63, 31, 14, 5, 6, 4, 17, 25, 123, 17, 11, 14, 83, 5, 25, 48, 18, 9, 87, 18, 17, 20, 63, 30, 46, 83, 122, 23, 16, 11, 22, 22, 58, 34, 41, 25, 22, 70, 8, 38, 29, 13, 8, 19, 35, 7, 34, 12, 38, 44, 14, 63, 52, 23, 41, 48, 34, 41, 8, 28, 44, 20, 39, 12, 5, 7, 38, 33, 5, 42, 34, 44, 31, 22, 13, 97, 125, 54, 64, 11, 3, 72, 15, 33, 4, 59, 26, 62, 4, 39, 118, 27, 11, 10, 38, 28, 15, 38, 14, 19, 4, 11, 34, 57, 11, 8, 15]\n",
            "max=190\n",
            "mean: 32.91, std: 33.30169882989167\n"
          ]
        },
        {
          "output_type": "display_data",
          "data": {
            "text/plain": [
              "<Figure size 432x288 with 1 Axes>"
            ],
            "image/png": "[encoded data removed]"
          },
          "metadata": {
            "needs_background": "light"
          }
        }
      ],
      "source": [
        "# get length of all the messages in the train set\n",
        "seq_len = [len(i.split()) for i in X_train]\n",
        "print(f\"seq_len={seq_len}\")\n",
        "print(f\"max={max(seq_len)}\")\n",
        "\n",
        "pd.Series(seq_len).hist(bins = 30);\n",
        "print(f\"mean: {np.mean(seq_len):.2f}, std: {np.std(seq_len)}\")"
      ]
    },
    {
      "cell_type": "code",
      "execution_count": null,
      "metadata": {
        "id": "rGhsVfNx5cam"
      },
      "outputs": [],
      "source": [
        "# take max\n",
        "max_length = 190"
      ]
    },
    {
      "cell_type": "code",
      "execution_count": null,
      "metadata": {
        "id": "TaxeRl7bxvld"
      },
      "outputs": [],
      "source": [
        "# save a copy of the pre-tokenized X values\n",
        "X_train_and_valid_extended_copy = X_train_and_valid_extended.copy()\n",
        "X_test_copy = X_test.copy()"
      ]
    },
    {
      "cell_type": "markdown",
      "metadata": {
        "id": "Ka1MrwQIDwYA"
      },
      "source": [
        "Tokenize and split"
      ]
    },
    {
      "cell_type": "code",
      "execution_count": null,
      "metadata": {
        "id": "Vyrd3fnO2PrV",
        "colab": {
          "base_uri": "https://localhost:8080/"
        },
        "outputId": "76e38800-e61e-4fcd-bf8f-4672b017147a"
      },
      "outputs": [
        {
          "output_type": "stream",
          "name": "stdout",
          "text": [
            "7421 - Train and valid\n",
            "1856 - Test\n",
            "\n",
            "Train and valid distribution:\n",
            "0    4842\n",
            "1    2579\n",
            "dtype: int64\n"
          ]
        }
      ],
      "source": [
        "X_train_and_valid_extended = tokenizer(X_train_and_valid_extended.to_list(), padding='max_length', max_length = max_length, truncation=True, return_attention_mask=True)\n",
        "X_test = tokenizer(X_test.to_list(), padding='max_length', max_length = max_length, truncation=True, return_attention_mask=True)\n",
        "\n",
        "print(f\"{len(X_train_and_valid_extended['input_ids'])} - Train and valid\")\n",
        "print(f\"{len(X_test['input_ids'])} - Test\")\n",
        "\n",
        "print(\"\", \"Train and valid distribution:\",y_train_and_valid_extended.value_counts(), sep=\"\\n\")"
      ]
    },
    {
      "cell_type": "markdown",
      "metadata": {
        "id": "ZKoPfW6OEsuw"
      },
      "source": [
        "## Load the BERT Transformer"
      ]
    },
    {
      "cell_type": "markdown",
      "source": [
        "**Fine Tuning**"
      ],
      "metadata": {
        "id": "MUl0NFngu5LC"
      }
    },
    {
      "cell_type": "code",
      "execution_count": null,
      "metadata": {
        "colab": {
          "base_uri": "https://localhost:8080/"
        },
        "id": "Sza3waNc0dVx",
        "outputId": "01381a7c-2211-4227-cd2d-ed03b31a5e9f"
      },
      "outputs": [
        {
          "output_type": "stream",
          "name": "stderr",
          "text": [
            "Some layers from the model checkpoint at distilbert-base-uncased were not used when initializing TFDistilBertModel: ['vocab_projector', 'vocab_layer_norm', 'activation_13', 'vocab_transform']\n",
            "- This IS expected if you are initializing TFDistilBertModel from the checkpoint of a model trained on another task or with another architecture (e.g. initializing a BertForSequenceClassification model from a BertForPreTraining model).\n",
            "- This IS NOT expected if you are initializing TFDistilBertModel from the checkpoint of a model that you expect to be exactly identical (initializing a BertForSequenceClassification model from a BertForSequenceClassification model).\n",
            "All the layers of TFDistilBertModel were initialized from the model checkpoint at distilbert-base-uncased.\n",
            "If your task is similar to the task the model of the checkpoint was trained on, you can already use TFDistilBertModel for predictions without further training.\n"
          ]
        }
      ],
      "source": [
        "config = transformers.DistilBertConfig(dropout=0.2, attention_dropout=0.2) # these dropouts are probably useless if the model is not trainable\n",
        "dbert_tf = transformers.TFDistilBertModel.from_pretrained(base_model_name, config=config, trainable=True) # unfreeze the model"
      ]
    },
    {
      "cell_type": "markdown",
      "metadata": {
        "id": "HuMkGfp3HMxs"
      },
      "source": [
        "## Model Configuration"
      ]
    },
    {
      "cell_type": "markdown",
      "metadata": {
        "id": "1GQTVfQO4A7l"
      },
      "source": [
        "Typically for a classification task, we use the **only the first** output vector of a sentence as input for the rest of the classification model, since this first vector “encodes” information about the overall text. (alternatively a pooling average of all output vectors could also be used as input for the classifier).\n"
      ]
    },
    {
      "cell_type": "code",
      "execution_count": null,
      "metadata": {
        "colab": {
          "base_uri": "https://localhost:8080/"
        },
        "id": "xNvf7f9_0dQX",
        "outputId": "e857325e-7acc-44df-fb32-839f38512304"
      },
      "outputs": [
        {
          "output_type": "stream",
          "name": "stdout",
          "text": [
            "KerasTensor(type_spec=TensorSpec(shape=(None, 768), dtype=tf.float32, name=None), name='tf.__operators__.getitem/strided_slice:0', description=\"created by layer 'tf.__operators__.getitem'\")\n",
            "\n",
            "Model: \"ClassificationModelTF\"\n",
            "__________________________________________________________________________________________________\n",
            " Layer (type)                   Output Shape         Param #     Connected to                     \n",
            "==================================================================================================\n",
            " input_ids (InputLayer)         [(None, 190)]        0           []                               \n",
            "                                                                                                  \n",
            " input_attention (InputLayer)   [(None, 190)]        0           []                               \n",
            "                                                                                                  \n",
            " tf_distil_bert_model (TFDistil  TFBaseModelOutput(l  66362880   ['input_ids[0][0]',              \n",
            " BertModel)                     ast_hidden_state=(N               'input_attention[0][0]']        \n",
            "                                one, 190, 768),                                                   \n",
            "                                 hidden_states=None                                               \n",
            "                                , attentions=None)                                                \n",
            "                                                                                                  \n",
            " tf.__operators__.getitem (Slic  (None, 768)         0           ['tf_distil_bert_model[0][0]']   \n",
            " ingOpLambda)                                                                                     \n",
            "                                                                                                  \n",
            " dense_1 (Dense)                (None, 128)          98432       ['tf.__operators__.getitem[0][0]'\n",
            "                                                                 ]                                \n",
            "                                                                                                  \n",
            " dropout_1 (Dropout)            (None, 128)          0           ['dense_1[0][0]']                \n",
            "                                                                                                  \n",
            " dense_2 (Dense)                (None, 32)           4128        ['dropout_1[0][0]']              \n",
            "                                                                                                  \n",
            " classification (Dense)         (None, 1)            33          ['dense_2[0][0]']                \n",
            "                                                                                                  \n",
            "==================================================================================================\n",
            "Total params: 66,465,473\n",
            "Trainable params: 66,465,473\n",
            "Non-trainable params: 0\n",
            "__________________________________________________________________________________________________\n"
          ]
        }
      ],
      "source": [
        "optimizer = optimizers.Adam(learning_rate=5e-5)\n",
        "loss = losses.BinaryCrossentropy(from_logits=False) \n",
        "metric = [metrics.AUC(from_logits=False), tf.keras.metrics.Recall(), tf.keras.metrics.Precision()] # False because of the sigmoid/softmax\n",
        "\n",
        "# Define input layers\n",
        "input_ids_in = layers.Input(shape=(max_length,), name='input_ids', dtype='int32')\n",
        "input_mask  = layers.Input(shape=(max_length,), name='input_attention', dtype='int32')\n",
        "\n",
        "# DistilBERT outputs a tuple where the first element at index 0 represents the hidden-state at the output of the model's last layer.\n",
        "# It is a tf.Tensor of shape (batch_size, sequence_length, hidden_size=768).\n",
        "bert_out = dbert_tf([input_ids_in, input_mask ])[0][:,0,:] # take the first word\n",
        "\n",
        "x = layers.Dense(128, activation='relu', name=\"dense_1\")(bert_out)\n",
        "x = layers.Dropout(0.1, name=\"dropout_1\")(x)\n",
        "x = layers.Dense(32, activation='relu', name=\"dense_2\")(x)\n",
        "x = layers.Dense(1, activation='sigmoid', name='classification')(x)\n",
        "\n",
        "model_tf = models.Model(inputs=[input_ids_in,input_mask], outputs = x, name='ClassificationModelTF')\n",
        "model_tf.compile(optimizer=optimizer,loss=loss, metrics=metric)\n",
        "\n",
        "model_tf.summary()"
      ]
    },
    {
      "cell_type": "markdown",
      "metadata": {
        "id": "Lituh93O4ptu"
      },
      "source": [
        "## Train"
      ]
    },
    {
      "cell_type": "markdown",
      "source": [
        "**Note:** Load the saved version from memory if available"
      ],
      "metadata": {
        "id": "BPXLjZX57gZB"
      }
    },
    {
      "cell_type": "code",
      "source": [
        "# model_tf = models.load_model(f'{DATA_FOLDER_PATH}bert_train_and_validation_01.h5', custom_objects={'TFDistilBertModel': dbert_tf})"
      ],
      "metadata": {
        "id": "yxsvdTG67nOY"
      },
      "execution_count": null,
      "outputs": []
    },
    {
      "cell_type": "code",
      "execution_count": null,
      "metadata": {
        "id": "mXO1kUhYTWEA",
        "colab": {
          "base_uri": "https://localhost:8080/"
        },
        "outputId": "8ca71411-14f9-4530-c7e4-340447478da5"
      },
      "outputs": [
        {
          "output_type": "stream",
          "name": "stdout",
          "text": [
            "Epoch 1/2\n",
            "232/232 [==============================] - 145s 582ms/step - loss: 0.4969 - auc: 0.8112 - recall: 0.5568 - precision: 0.6593\n",
            "Epoch 2/2\n",
            "232/232 [==============================] - 135s 581ms/step - loss: 0.3611 - auc: 0.9093 - recall: 0.7596 - precision: 0.7713\n"
          ]
        }
      ],
      "source": [
        "# Train the model\n",
        "start_time = datetime.now()\n",
        "history = model_tf.fit(\n",
        "                        x = {'input_ids':np.array(X_train_and_valid_extended['input_ids']), 'input_attention':np.array(X_train_and_valid_extended['attention_mask'])},\n",
        "                        y = y_train_and_valid_extended,\n",
        "                        epochs=2,\n",
        "                        batch_size=32\n",
        "                    )\n",
        "end_time = datetime.now()\n",
        "\n",
        "training_time_tf = (end_time - start_time).total_seconds()"
      ]
    },
    {
      "cell_type": "code",
      "source": [
        "metrics_results = model_tf.evaluate({'input_ids':np.array(X_test['input_ids']), 'input_attention':np.array(X_test['attention_mask'])},y_test)\n",
        "\n",
        "print(\"AUC:{:.3f}, Recall: {:.3f}, Precision: {:.3f}, F1: {:.3f}\".format(metrics_results[1], metrics_results[2], metrics_results[3], f1(metrics_results[2], metrics_results[3])))"
      ],
      "metadata": {
        "colab": {
          "base_uri": "https://localhost:8080/"
        },
        "id": "eNcz2bFrrVv1",
        "outputId": "affb8c37-445e-4a92-881a-4b3f95f28d03"
      },
      "execution_count": null,
      "outputs": [
        {
          "output_type": "stream",
          "name": "stdout",
          "text": [
            "58/58 [==============================] - 13s 198ms/step - loss: 0.4410 - auc: 0.8665 - recall: 0.7829 - precision: 0.6558\n",
            "AUC:0.866, Recall: 0.783, Precision: 0.656, F1: 0.714\n"
          ]
        }
      ]
    },
    {
      "cell_type": "code",
      "source": [
        "model_tf.save(f'{DATA_FOLDER_PATH}bert_run_{RUN_ID}_epoch_2.h5', save_format='h5')"
      ],
      "metadata": {
        "id": "azedA8D_SXPJ"
      },
      "execution_count": null,
      "outputs": []
    },
    {
      "cell_type": "markdown",
      "source": [
        "## Analysis"
      ],
      "metadata": {
        "id": "AvA9_-ZB8PjS"
      }
    },
    {
      "cell_type": "code",
      "source": [
        "threshold = 0.5\n",
        "\n",
        "predicted_proba_test = model_tf.predict({'input_ids': np.array(X_test['input_ids']), 'input_attention': np.array(X_test['attention_mask'])})\n",
        "predicted_test = np.array([predicted_proba_test > threshold], dtype=int).flatten()\n",
        "get_confusion_matrix(y_test, predicted_test, labels=[0,1])"
      ],
      "metadata": {
        "colab": {
          "base_uri": "https://localhost:8080/"
        },
        "id": "jnAFa183yLkZ",
        "outputId": "9b00be95-97d6-4bd9-db19-e8c47f9c5b72"
      },
      "execution_count": null,
      "outputs": [
        {
          "output_type": "stream",
          "name": "stdout",
          "text": [
            "predicted    0    1\n",
            "actual             \n",
            "0          946  265\n",
            "1          140  505\n",
            "recall: 0.783, precision: 0.656, f1: 0.714\n"
          ]
        }
      ]
    },
    {
      "cell_type": "markdown",
      "source": [
        "Save results to CSV"
      ],
      "metadata": {
        "id": "x73KdT-xq1xt"
      }
    },
    {
      "cell_type": "code",
      "source": [
        "pd.DataFrame(data={'text': X_test_copy, 'y_true': y_test, 'y_pred': predicted_proba_test.flatten()}).to_csv(f'{DATA_FOLDER_PATH}test_predicted_proba_run_{RUN_ID}.csv')"
      ],
      "metadata": {
        "id": "cYPRI7F_p0Or"
      },
      "execution_count": null,
      "outputs": []
    }
  ],
  "metadata": {
    "accelerator": "GPU",
    "colab": {
      "provenance": [],
      "collapsed_sections": [
        "OFOTiqrtNvyy",
        "kKd-Tj3hOMsZ",
        "w82013gpBaU9",
        "MKfWnApvOoE7",
        "ZKoPfW6OEsuw",
        "HuMkGfp3HMxs",
        "Lituh93O4ptu",
        "AvA9_-ZB8PjS"
      ],
      "include_colab_link": true
    },
    "gpuClass": "standard",
    "kernelspec": {
      "display_name": "Python 3",
      "name": "python3"
    }
  },
  "nbformat": 4,
  "nbformat_minor": 0
}